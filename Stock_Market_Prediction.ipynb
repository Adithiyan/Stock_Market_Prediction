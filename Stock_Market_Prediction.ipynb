{
  "cells": [
    {
      "cell_type": "markdown",
      "metadata": {
        "id": "BIe7u661UuQo"
      },
      "source": [
        "### **Stock Market Prediction using Numerical and Textual Analysis**"
      ]
    },
    {
      "cell_type": "markdown",
      "metadata": {
        "id": "-dtMi1edUubo"
      },
      "source": [
        "### GRIP @ The Sparks Foundation\n",
        "\n"
      ]
    },
    {
      "cell_type": "markdown",
      "metadata": {
        "id": "qPQlljW9UueP"
      },
      "source": [
        "## *ADITHIYAN RAJAN*\n",
        "\n",
        "## *Data Science & Business Analytics Intern*"
      ]
    },
    {
      "cell_type": "markdown",
      "metadata": {
        "id": "ICkHf00oUug9"
      },
      "source": [
        "## Objective - to create a hybrid model for stock price/performance prediction using numerical analysis of historical stock prices, and sentimental analysis of news headlines."
      ]
    },
    {
      "cell_type": "markdown",
      "metadata": {
        "id": "2264AX3cVKJ_"
      },
      "source": [
        "## Dataset - LT stock data from Yahoo Finance\n",
        "\n",
        "## Textual News data from https://bit.ly/36fFPI6."
      ]
    },
    {
      "cell_type": "markdown",
      "source": [
        "## Stock Price Analysis and Prediction"
      ],
      "metadata": {
        "id": "LHdaWQCy0zap"
      }
    },
    {
      "cell_type": "code",
      "execution_count": null,
      "metadata": {
        "id": "fKAg7W3oUqA9"
      },
      "outputs": [],
      "source": [
        "import numpy as np\n",
        "import matplotlib.pyplot as plt\n",
        "import pandas as pd \n",
        "from sklearn.preprocessing import MinMaxScaler\n",
        "from sklearn.metrics import mean_squared_error\n",
        "from sklearn import metrics \n",
        "from keras.models import Sequential\n",
        "from keras.layers import Dense, LSTM\n",
        "import math"
      ]
    },
    {
      "cell_type": "code",
      "execution_count": null,
      "metadata": {
        "colab": {
          "base_uri": "https://localhost:8080/",
          "height": 206
        },
        "id": "KCBNLRFbVjfy",
        "outputId": "8da3c26d-7958-488a-9ab4-384f0ec912f9"
      },
      "outputs": [
        {
          "output_type": "execute_result",
          "data": {
            "text/plain": [
              "         Date       Open       High        Low      Close  Adj Close  \\\n",
              "0  2002-07-01  40.111111  40.724445  40.111111  40.435555  30.959587   \n",
              "1  2002-07-02  40.555553  40.933334  40.444443  40.533333  31.034466   \n",
              "2  2002-07-03  40.688889  40.755554  40.022221  40.080002  30.687366   \n",
              "3  2002-07-04  40.244446  40.377777  39.835556  39.924442  30.568254   \n",
              "4  2002-07-05  39.799999  40.222221  39.799999  40.022221  30.643120   \n",
              "\n",
              "      Volume  \n",
              "0  3709080.0  \n",
              "1  2500024.0  \n",
              "2  1910772.0  \n",
              "3  1515924.0  \n",
              "4  1038928.0  "
            ],
            "text/html": [
              "\n",
              "  <div id=\"df-59d57cb0-69b3-424d-9ae7-53863872b2dd\">\n",
              "    <div class=\"colab-df-container\">\n",
              "      <div>\n",
              "<style scoped>\n",
              "    .dataframe tbody tr th:only-of-type {\n",
              "        vertical-align: middle;\n",
              "    }\n",
              "\n",
              "    .dataframe tbody tr th {\n",
              "        vertical-align: top;\n",
              "    }\n",
              "\n",
              "    .dataframe thead th {\n",
              "        text-align: right;\n",
              "    }\n",
              "</style>\n",
              "<table border=\"1\" class=\"dataframe\">\n",
              "  <thead>\n",
              "    <tr style=\"text-align: right;\">\n",
              "      <th></th>\n",
              "      <th>Date</th>\n",
              "      <th>Open</th>\n",
              "      <th>High</th>\n",
              "      <th>Low</th>\n",
              "      <th>Close</th>\n",
              "      <th>Adj Close</th>\n",
              "      <th>Volume</th>\n",
              "    </tr>\n",
              "  </thead>\n",
              "  <tbody>\n",
              "    <tr>\n",
              "      <th>0</th>\n",
              "      <td>2002-07-01</td>\n",
              "      <td>40.111111</td>\n",
              "      <td>40.724445</td>\n",
              "      <td>40.111111</td>\n",
              "      <td>40.435555</td>\n",
              "      <td>30.959587</td>\n",
              "      <td>3709080.0</td>\n",
              "    </tr>\n",
              "    <tr>\n",
              "      <th>1</th>\n",
              "      <td>2002-07-02</td>\n",
              "      <td>40.555553</td>\n",
              "      <td>40.933334</td>\n",
              "      <td>40.444443</td>\n",
              "      <td>40.533333</td>\n",
              "      <td>31.034466</td>\n",
              "      <td>2500024.0</td>\n",
              "    </tr>\n",
              "    <tr>\n",
              "      <th>2</th>\n",
              "      <td>2002-07-03</td>\n",
              "      <td>40.688889</td>\n",
              "      <td>40.755554</td>\n",
              "      <td>40.022221</td>\n",
              "      <td>40.080002</td>\n",
              "      <td>30.687366</td>\n",
              "      <td>1910772.0</td>\n",
              "    </tr>\n",
              "    <tr>\n",
              "      <th>3</th>\n",
              "      <td>2002-07-04</td>\n",
              "      <td>40.244446</td>\n",
              "      <td>40.377777</td>\n",
              "      <td>39.835556</td>\n",
              "      <td>39.924442</td>\n",
              "      <td>30.568254</td>\n",
              "      <td>1515924.0</td>\n",
              "    </tr>\n",
              "    <tr>\n",
              "      <th>4</th>\n",
              "      <td>2002-07-05</td>\n",
              "      <td>39.799999</td>\n",
              "      <td>40.222221</td>\n",
              "      <td>39.799999</td>\n",
              "      <td>40.022221</td>\n",
              "      <td>30.643120</td>\n",
              "      <td>1038928.0</td>\n",
              "    </tr>\n",
              "  </tbody>\n",
              "</table>\n",
              "</div>\n",
              "      <button class=\"colab-df-convert\" onclick=\"convertToInteractive('df-59d57cb0-69b3-424d-9ae7-53863872b2dd')\"\n",
              "              title=\"Convert this dataframe to an interactive table.\"\n",
              "              style=\"display:none;\">\n",
              "        \n",
              "  <svg xmlns=\"http://www.w3.org/2000/svg\" height=\"24px\"viewBox=\"0 0 24 24\"\n",
              "       width=\"24px\">\n",
              "    <path d=\"M0 0h24v24H0V0z\" fill=\"none\"/>\n",
              "    <path d=\"M18.56 5.44l.94 2.06.94-2.06 2.06-.94-2.06-.94-.94-2.06-.94 2.06-2.06.94zm-11 1L8.5 8.5l.94-2.06 2.06-.94-2.06-.94L8.5 2.5l-.94 2.06-2.06.94zm10 10l.94 2.06.94-2.06 2.06-.94-2.06-.94-.94-2.06-.94 2.06-2.06.94z\"/><path d=\"M17.41 7.96l-1.37-1.37c-.4-.4-.92-.59-1.43-.59-.52 0-1.04.2-1.43.59L10.3 9.45l-7.72 7.72c-.78.78-.78 2.05 0 2.83L4 21.41c.39.39.9.59 1.41.59.51 0 1.02-.2 1.41-.59l7.78-7.78 2.81-2.81c.8-.78.8-2.07 0-2.86zM5.41 20L4 18.59l7.72-7.72 1.47 1.35L5.41 20z\"/>\n",
              "  </svg>\n",
              "      </button>\n",
              "      \n",
              "  <style>\n",
              "    .colab-df-container {\n",
              "      display:flex;\n",
              "      flex-wrap:wrap;\n",
              "      gap: 12px;\n",
              "    }\n",
              "\n",
              "    .colab-df-convert {\n",
              "      background-color: #E8F0FE;\n",
              "      border: none;\n",
              "      border-radius: 50%;\n",
              "      cursor: pointer;\n",
              "      display: none;\n",
              "      fill: #1967D2;\n",
              "      height: 32px;\n",
              "      padding: 0 0 0 0;\n",
              "      width: 32px;\n",
              "    }\n",
              "\n",
              "    .colab-df-convert:hover {\n",
              "      background-color: #E2EBFA;\n",
              "      box-shadow: 0px 1px 2px rgba(60, 64, 67, 0.3), 0px 1px 3px 1px rgba(60, 64, 67, 0.15);\n",
              "      fill: #174EA6;\n",
              "    }\n",
              "\n",
              "    [theme=dark] .colab-df-convert {\n",
              "      background-color: #3B4455;\n",
              "      fill: #D2E3FC;\n",
              "    }\n",
              "\n",
              "    [theme=dark] .colab-df-convert:hover {\n",
              "      background-color: #434B5C;\n",
              "      box-shadow: 0px 1px 3px 1px rgba(0, 0, 0, 0.15);\n",
              "      filter: drop-shadow(0px 1px 2px rgba(0, 0, 0, 0.3));\n",
              "      fill: #FFFFFF;\n",
              "    }\n",
              "  </style>\n",
              "\n",
              "      <script>\n",
              "        const buttonEl =\n",
              "          document.querySelector('#df-59d57cb0-69b3-424d-9ae7-53863872b2dd button.colab-df-convert');\n",
              "        buttonEl.style.display =\n",
              "          google.colab.kernel.accessAllowed ? 'block' : 'none';\n",
              "\n",
              "        async function convertToInteractive(key) {\n",
              "          const element = document.querySelector('#df-59d57cb0-69b3-424d-9ae7-53863872b2dd');\n",
              "          const dataTable =\n",
              "            await google.colab.kernel.invokeFunction('convertToInteractive',\n",
              "                                                     [key], {});\n",
              "          if (!dataTable) return;\n",
              "\n",
              "          const docLinkHtml = 'Like what you see? Visit the ' +\n",
              "            '<a target=\"_blank\" href=https://colab.research.google.com/notebooks/data_table.ipynb>data table notebook</a>'\n",
              "            + ' to learn more about interactive tables.';\n",
              "          element.innerHTML = '';\n",
              "          dataTable['output_type'] = 'display_data';\n",
              "          await google.colab.output.renderOutput(dataTable, element);\n",
              "          const docLink = document.createElement('div');\n",
              "          docLink.innerHTML = docLinkHtml;\n",
              "          element.appendChild(docLink);\n",
              "        }\n",
              "      </script>\n",
              "    </div>\n",
              "  </div>\n",
              "  "
            ]
          },
          "metadata": {},
          "execution_count": 2
        }
      ],
      "source": [
        "# Dataframe for exploratory analysis\n",
        "df=pd.read_csv('/content/LT.NS2.csv')\n",
        "df.head()"
      ]
    },
    {
      "cell_type": "code",
      "execution_count": null,
      "metadata": {
        "colab": {
          "base_uri": "https://localhost:8080/"
        },
        "id": "N_quqXxbVjon",
        "outputId": "bec5e79c-7716-4172-f8a8-4ddc0b6547d8"
      },
      "outputs": [
        {
          "output_type": "stream",
          "name": "stdout",
          "text": [
            "<class 'pandas.core.frame.DataFrame'>\n",
            "RangeIndex: 5034 entries, 0 to 5033\n",
            "Data columns (total 7 columns):\n",
            " #   Column     Non-Null Count  Dtype  \n",
            "---  ------     --------------  -----  \n",
            " 0   Date       5034 non-null   object \n",
            " 1   Open       5027 non-null   float64\n",
            " 2   High       5027 non-null   float64\n",
            " 3   Low        5027 non-null   float64\n",
            " 4   Close      5027 non-null   float64\n",
            " 5   Adj Close  5027 non-null   float64\n",
            " 6   Volume     5027 non-null   float64\n",
            "dtypes: float64(6), object(1)\n",
            "memory usage: 275.4+ KB\n"
          ]
        }
      ],
      "source": [
        "df.info()"
      ]
    },
    {
      "cell_type": "code",
      "execution_count": null,
      "metadata": {
        "colab": {
          "base_uri": "https://localhost:8080/",
          "height": 545
        },
        "id": "gR4M27L9VjrR",
        "outputId": "1dc1616b-40c6-4b7c-c01a-40f27757f2b4"
      },
      "outputs": [
        {
          "output_type": "execute_result",
          "data": {
            "text/plain": [
              "[<matplotlib.lines.Line2D at 0x7f614d5bded0>]"
            ]
          },
          "metadata": {},
          "execution_count": 4
        },
        {
          "output_type": "display_data",
          "data": {
            "text/plain": [
              "<Figure size 1152x576 with 1 Axes>"
            ],
            "image/png": "[encoded data removed]"
          },
          "metadata": {
            "needs_background": "light"
          }
        }
      ],
      "source": [
        "df['Date'] = pd.to_datetime(df.Date,format='%Y-%m-%d')\n",
        "df.index = df['Date']\n",
        "df.dropna(inplace=True)\n",
        "#plot\n",
        "plt.figure(figsize=(16,8))\n",
        "plt.title('Close Price history\\n')\n",
        "plt.xlabel('Time (Year)')\n",
        "plt.ylabel('Close Price')\n",
        "plt.plot(df['Close'])"
      ]
    },
    {
      "cell_type": "code",
      "execution_count": null,
      "metadata": {
        "id": "nQSMPkwXVjvw"
      },
      "outputs": [],
      "source": [
        "# fix random seed for reproducibility\n",
        "np.random.seed(5)"
      ]
    },
    {
      "cell_type": "code",
      "execution_count": null,
      "metadata": {
        "id": "vcCZ4ZBkVjyf"
      },
      "outputs": [],
      "source": [
        "# convert an array of values into a dataset matrix\n",
        "def create_dataset(df2, look_back=1):\n",
        "\tdataX, dataY = [], []\n",
        "\tfor i in range(len(df2)-look_back-1):\n",
        "\t\ta = df2[i:(i+look_back), 0]\n",
        "\t\tdataX.append(a)\n",
        "\t\tdataY.append(df2[i + look_back, 0])\n",
        "\treturn np.array(dataX), np.array(dataY)"
      ]
    },
    {
      "cell_type": "code",
      "execution_count": null,
      "metadata": {
        "id": "nMBcWnQSVj0o"
      },
      "outputs": [],
      "source": [
        "df2 = pd.read_csv('/content/LT.NS2.csv', usecols=[5], engine='python')\n",
        "df2.dropna(inplace=True)\n",
        "df2 = df2.values\n",
        "df2 = df2.astype('float32')"
      ]
    },
    {
      "cell_type": "code",
      "execution_count": null,
      "metadata": {
        "id": "jTm61LD3YRPq"
      },
      "outputs": [],
      "source": [
        "# normalize the dataset\n",
        "scaler = MinMaxScaler(feature_range=(0, 1))\n",
        "df2 = scaler.fit_transform(df2)\n",
        "\n",
        "# split into train and test sets\n",
        "train_size = int(len(df2) * 0.67)\n",
        "test_size = len(df2) - train_size\n",
        "train, test = df2[0:train_size,:], df2[train_size:len(df2),:]"
      ]
    },
    {
      "cell_type": "code",
      "execution_count": null,
      "metadata": {
        "id": "vRj1y_QCYRR2"
      },
      "outputs": [],
      "source": [
        "# reshape into X=t and Y=t+1\n",
        "look_back = 2\n",
        "trainX, trainY = create_dataset(train, look_back)\n",
        "testX, testY = create_dataset(test, look_back)\n",
        "# reshape input to be [samples, time steps, features]\n",
        "trainX = np.reshape(trainX, (trainX.shape[0], trainX.shape[1], 1))\n",
        "testX = np.reshape(testX, (testX.shape[0], testX.shape[1], 1))"
      ]
    },
    {
      "cell_type": "code",
      "execution_count": null,
      "metadata": {
        "colab": {
          "base_uri": "https://localhost:8080/"
        },
        "id": "iADsprxDYRUP",
        "outputId": "95bf13fd-0749-4e07-df53-6c552ed8461d"
      },
      "outputs": [
        {
          "output_type": "stream",
          "name": "stdout",
          "text": [
            "Epoch 1/100\n",
            "673/673 - 3s - loss: 0.0075 - 3s/epoch - 5ms/step\n",
            "Epoch 2/100\n",
            "673/673 - 1s - loss: 5.4377e-05 - 1s/epoch - 2ms/step\n",
            "Epoch 3/100\n",
            "673/673 - 1s - loss: 5.1523e-05 - 1s/epoch - 2ms/step\n",
            "Epoch 4/100\n",
            "673/673 - 1s - loss: 4.8664e-05 - 1s/epoch - 2ms/step\n",
            "Epoch 5/100\n",
            "673/673 - 1s - loss: 4.8777e-05 - 1s/epoch - 2ms/step\n",
            "Epoch 6/100\n",
            "673/673 - 1s - loss: 5.1464e-05 - 1s/epoch - 2ms/step\n",
            "Epoch 7/100\n",
            "673/673 - 1s - loss: 4.9079e-05 - 1s/epoch - 2ms/step\n",
            "Epoch 8/100\n",
            "673/673 - 1s - loss: 4.9345e-05 - 1s/epoch - 2ms/step\n",
            "Epoch 9/100\n",
            "673/673 - 1s - loss: 5.1063e-05 - 1s/epoch - 2ms/step\n",
            "Epoch 10/100\n",
            "673/673 - 1s - loss: 4.9859e-05 - 1s/epoch - 2ms/step\n",
            "Epoch 11/100\n",
            "673/673 - 1s - loss: 5.0562e-05 - 1s/epoch - 2ms/step\n",
            "Epoch 12/100\n",
            "673/673 - 1s - loss: 5.0193e-05 - 1s/epoch - 2ms/step\n",
            "Epoch 13/100\n",
            "673/673 - 1s - loss: 4.9522e-05 - 1s/epoch - 2ms/step\n",
            "Epoch 14/100\n",
            "673/673 - 1s - loss: 4.9244e-05 - 1s/epoch - 2ms/step\n",
            "Epoch 15/100\n",
            "673/673 - 1s - loss: 5.1424e-05 - 1s/epoch - 2ms/step\n",
            "Epoch 16/100\n",
            "673/673 - 1s - loss: 4.8806e-05 - 1s/epoch - 2ms/step\n",
            "Epoch 17/100\n",
            "673/673 - 2s - loss: 4.9196e-05 - 2s/epoch - 2ms/step\n",
            "Epoch 18/100\n",
            "673/673 - 2s - loss: 4.9834e-05 - 2s/epoch - 2ms/step\n",
            "Epoch 19/100\n",
            "673/673 - 1s - loss: 4.7701e-05 - 1s/epoch - 2ms/step\n",
            "Epoch 20/100\n",
            "673/673 - 1s - loss: 4.7009e-05 - 1s/epoch - 2ms/step\n",
            "Epoch 21/100\n",
            "673/673 - 1s - loss: 4.7995e-05 - 1s/epoch - 2ms/step\n",
            "Epoch 22/100\n",
            "673/673 - 1s - loss: 4.7136e-05 - 1s/epoch - 2ms/step\n",
            "Epoch 23/100\n",
            "673/673 - 1s - loss: 4.5094e-05 - 1s/epoch - 2ms/step\n",
            "Epoch 24/100\n",
            "673/673 - 2s - loss: 4.4170e-05 - 2s/epoch - 3ms/step\n",
            "Epoch 25/100\n",
            "673/673 - 2s - loss: 4.4047e-05 - 2s/epoch - 3ms/step\n",
            "Epoch 26/100\n",
            "673/673 - 1s - loss: 4.1976e-05 - 1s/epoch - 2ms/step\n",
            "Epoch 27/100\n",
            "673/673 - 1s - loss: 4.0493e-05 - 1s/epoch - 2ms/step\n",
            "Epoch 28/100\n",
            "673/673 - 1s - loss: 4.0290e-05 - 1s/epoch - 2ms/step\n",
            "Epoch 29/100\n",
            "673/673 - 1s - loss: 3.9230e-05 - 1s/epoch - 2ms/step\n",
            "Epoch 30/100\n",
            "673/673 - 1s - loss: 3.7647e-05 - 1s/epoch - 2ms/step\n",
            "Epoch 31/100\n",
            "673/673 - 1s - loss: 3.7300e-05 - 1s/epoch - 2ms/step\n",
            "Epoch 32/100\n",
            "673/673 - 1s - loss: 3.6335e-05 - 1s/epoch - 2ms/step\n",
            "Epoch 33/100\n",
            "673/673 - 1s - loss: 3.8110e-05 - 1s/epoch - 2ms/step\n",
            "Epoch 34/100\n",
            "673/673 - 1s - loss: 3.7084e-05 - 1s/epoch - 2ms/step\n",
            "Epoch 35/100\n",
            "673/673 - 1s - loss: 3.6680e-05 - 1s/epoch - 2ms/step\n",
            "Epoch 36/100\n",
            "673/673 - 1s - loss: 3.5750e-05 - 1s/epoch - 2ms/step\n",
            "Epoch 37/100\n",
            "673/673 - 1s - loss: 3.6094e-05 - 1s/epoch - 2ms/step\n",
            "Epoch 38/100\n",
            "673/673 - 1s - loss: 3.6644e-05 - 1s/epoch - 2ms/step\n",
            "Epoch 39/100\n",
            "673/673 - 1s - loss: 3.5865e-05 - 1s/epoch - 2ms/step\n",
            "Epoch 40/100\n",
            "673/673 - 1s - loss: 3.5869e-05 - 1s/epoch - 2ms/step\n",
            "Epoch 41/100\n",
            "673/673 - 1s - loss: 3.6564e-05 - 1s/epoch - 2ms/step\n",
            "Epoch 42/100\n",
            "673/673 - 1s - loss: 3.6514e-05 - 1s/epoch - 2ms/step\n",
            "Epoch 43/100\n",
            "673/673 - 1s - loss: 3.7444e-05 - 1s/epoch - 2ms/step\n",
            "Epoch 44/100\n",
            "673/673 - 1s - loss: 3.6323e-05 - 1s/epoch - 2ms/step\n",
            "Epoch 45/100\n",
            "673/673 - 1s - loss: 3.7516e-05 - 1s/epoch - 2ms/step\n",
            "Epoch 46/100\n",
            "673/673 - 1s - loss: 3.6503e-05 - 1s/epoch - 2ms/step\n",
            "Epoch 47/100\n",
            "673/673 - 1s - loss: 3.5693e-05 - 1s/epoch - 2ms/step\n",
            "Epoch 48/100\n",
            "673/673 - 1s - loss: 3.4672e-05 - 1s/epoch - 2ms/step\n",
            "Epoch 49/100\n",
            "673/673 - 1s - loss: 3.5863e-05 - 1s/epoch - 2ms/step\n",
            "Epoch 50/100\n",
            "673/673 - 1s - loss: 3.5133e-05 - 1s/epoch - 2ms/step\n",
            "Epoch 51/100\n",
            "673/673 - 1s - loss: 3.5903e-05 - 1s/epoch - 2ms/step\n",
            "Epoch 52/100\n",
            "673/673 - 1s - loss: 3.5992e-05 - 1s/epoch - 2ms/step\n",
            "Epoch 53/100\n",
            "673/673 - 1s - loss: 3.6848e-05 - 1s/epoch - 2ms/step\n",
            "Epoch 54/100\n",
            "673/673 - 1s - loss: 3.5108e-05 - 1s/epoch - 2ms/step\n",
            "Epoch 55/100\n",
            "673/673 - 1s - loss: 3.6326e-05 - 1s/epoch - 2ms/step\n",
            "Epoch 56/100\n",
            "673/673 - 1s - loss: 3.5562e-05 - 1s/epoch - 2ms/step\n",
            "Epoch 57/100\n",
            "673/673 - 1s - loss: 3.5512e-05 - 1s/epoch - 2ms/step\n",
            "Epoch 58/100\n",
            "673/673 - 1s - loss: 3.6721e-05 - 1s/epoch - 2ms/step\n",
            "Epoch 59/100\n",
            "673/673 - 1s - loss: 3.5520e-05 - 1s/epoch - 2ms/step\n",
            "Epoch 60/100\n",
            "673/673 - 1s - loss: 3.4830e-05 - 1s/epoch - 2ms/step\n",
            "Epoch 61/100\n",
            "673/673 - 1s - loss: 3.5402e-05 - 1s/epoch - 2ms/step\n",
            "Epoch 62/100\n",
            "673/673 - 1s - loss: 3.4679e-05 - 1s/epoch - 2ms/step\n",
            "Epoch 63/100\n",
            "673/673 - 1s - loss: 3.5804e-05 - 1s/epoch - 2ms/step\n",
            "Epoch 64/100\n",
            "673/673 - 1s - loss: 3.6746e-05 - 1s/epoch - 2ms/step\n",
            "Epoch 65/100\n",
            "673/673 - 1s - loss: 3.5977e-05 - 1s/epoch - 2ms/step\n",
            "Epoch 66/100\n",
            "673/673 - 1s - loss: 3.5575e-05 - 1s/epoch - 2ms/step\n",
            "Epoch 67/100\n",
            "673/673 - 1s - loss: 3.5976e-05 - 1s/epoch - 2ms/step\n",
            "Epoch 68/100\n",
            "673/673 - 1s - loss: 3.6491e-05 - 1s/epoch - 2ms/step\n",
            "Epoch 69/100\n",
            "673/673 - 1s - loss: 3.7395e-05 - 1s/epoch - 2ms/step\n",
            "Epoch 70/100\n",
            "673/673 - 1s - loss: 3.5979e-05 - 1s/epoch - 2ms/step\n",
            "Epoch 71/100\n",
            "673/673 - 1s - loss: 3.5877e-05 - 1s/epoch - 2ms/step\n",
            "Epoch 72/100\n",
            "673/673 - 1s - loss: 3.5395e-05 - 1s/epoch - 2ms/step\n",
            "Epoch 73/100\n",
            "673/673 - 1s - loss: 3.6643e-05 - 1s/epoch - 2ms/step\n",
            "Epoch 74/100\n",
            "673/673 - 1s - loss: 3.5628e-05 - 1s/epoch - 2ms/step\n",
            "Epoch 75/100\n",
            "673/673 - 1s - loss: 3.5798e-05 - 1s/epoch - 2ms/step\n",
            "Epoch 76/100\n",
            "673/673 - 1s - loss: 3.4978e-05 - 1s/epoch - 2ms/step\n",
            "Epoch 77/100\n",
            "673/673 - 1s - loss: 3.6487e-05 - 1s/epoch - 2ms/step\n",
            "Epoch 78/100\n",
            "673/673 - 1s - loss: 3.5897e-05 - 1s/epoch - 2ms/step\n",
            "Epoch 79/100\n",
            "673/673 - 1s - loss: 3.4877e-05 - 1s/epoch - 2ms/step\n",
            "Epoch 80/100\n",
            "673/673 - 1s - loss: 3.6492e-05 - 1s/epoch - 2ms/step\n",
            "Epoch 81/100\n",
            "673/673 - 1s - loss: 3.6535e-05 - 1s/epoch - 2ms/step\n",
            "Epoch 82/100\n",
            "673/673 - 1s - loss: 3.5278e-05 - 1s/epoch - 2ms/step\n",
            "Epoch 83/100\n",
            "673/673 - 1s - loss: 3.6063e-05 - 1s/epoch - 2ms/step\n",
            "Epoch 84/100\n",
            "673/673 - 1s - loss: 3.6596e-05 - 1s/epoch - 2ms/step\n",
            "Epoch 85/100\n",
            "673/673 - 1s - loss: 3.5142e-05 - 1s/epoch - 2ms/step\n",
            "Epoch 86/100\n",
            "673/673 - 1s - loss: 3.4832e-05 - 1s/epoch - 2ms/step\n",
            "Epoch 87/100\n",
            "673/673 - 1s - loss: 3.6219e-05 - 1s/epoch - 2ms/step\n",
            "Epoch 88/100\n",
            "673/673 - 1s - loss: 3.5272e-05 - 1s/epoch - 2ms/step\n",
            "Epoch 89/100\n",
            "673/673 - 1s - loss: 3.5011e-05 - 1s/epoch - 2ms/step\n",
            "Epoch 90/100\n",
            "673/673 - 1s - loss: 3.4900e-05 - 1s/epoch - 2ms/step\n",
            "Epoch 91/100\n",
            "673/673 - 1s - loss: 3.5968e-05 - 1s/epoch - 2ms/step\n",
            "Epoch 92/100\n",
            "673/673 - 1s - loss: 3.4140e-05 - 1s/epoch - 2ms/step\n",
            "Epoch 93/100\n",
            "673/673 - 1s - loss: 3.5631e-05 - 1s/epoch - 2ms/step\n",
            "Epoch 94/100\n",
            "673/673 - 1s - loss: 3.5938e-05 - 1s/epoch - 2ms/step\n",
            "Epoch 95/100\n",
            "673/673 - 1s - loss: 3.6160e-05 - 1s/epoch - 2ms/step\n",
            "Epoch 96/100\n",
            "673/673 - 1s - loss: 3.5384e-05 - 1s/epoch - 2ms/step\n",
            "Epoch 97/100\n",
            "673/673 - 1s - loss: 3.3779e-05 - 1s/epoch - 2ms/step\n",
            "Epoch 98/100\n",
            "673/673 - 1s - loss: 3.4660e-05 - 1s/epoch - 2ms/step\n",
            "Epoch 99/100\n",
            "673/673 - 1s - loss: 3.4906e-05 - 1s/epoch - 2ms/step\n",
            "Epoch 100/100\n",
            "673/673 - 1s - loss: 3.6226e-05 - 1s/epoch - 2ms/step\n"
          ]
        },
        {
          "output_type": "execute_result",
          "data": {
            "text/plain": [
              "<keras.callbacks.History at 0x7f614ce92f10>"
            ]
          },
          "metadata": {},
          "execution_count": 10
        }
      ],
      "source": [
        "# create and fit the LSTM network\n",
        "model = Sequential()\n",
        "model.add(LSTM(7, input_shape=(look_back, 1)))\n",
        "model.add(Dense(1))\n",
        "model.compile(loss='mean_squared_error', optimizer='adam')\n",
        "model.fit(trainX, trainY, epochs=100, batch_size=5, verbose=2)"
      ]
    },
    {
      "cell_type": "code",
      "execution_count": null,
      "metadata": {
        "id": "w6uQbDI4YRYs"
      },
      "outputs": [],
      "source": [
        "# make predictions\n",
        "trainPredict = model.predict(trainX)\n",
        "testPredict = model.predict(testX)\n",
        "# invert predictions\n",
        "trainPredict = scaler.inverse_transform(trainPredict)\n",
        "trainY = scaler.inverse_transform([trainY])\n",
        "testPredict = scaler.inverse_transform(testPredict)\n",
        "testY = scaler.inverse_transform([testY])"
      ]
    },
    {
      "cell_type": "code",
      "execution_count": null,
      "metadata": {
        "colab": {
          "base_uri": "https://localhost:8080/",
          "height": 295
        },
        "id": "DVtpx_rGVj3L",
        "outputId": "191c66a7-2008-4221-f19a-d3a4578f5a7c"
      },
      "outputs": [
        {
          "output_type": "display_data",
          "data": {
            "text/plain": [
              "<Figure size 432x288 with 1 Axes>"
            ],
            "image/png": "[encoded data removed]"
          },
          "metadata": {
            "needs_background": "light"
          }
        }
      ],
      "source": [
        "# shift train predictions for plotting\n",
        "trainPredictPlot = np.empty_like(df2)\n",
        "trainPredictPlot[:, :] = np.nan\n",
        "trainPredictPlot[look_back:len(trainPredict)+look_back, :] = trainPredict\n",
        "# shift test predictions for plotting\n",
        "testPredictPlot = np.empty_like(df2)\n",
        "testPredictPlot[:, :] = np.nan\n",
        "testPredictPlot[len(trainPredict)+(look_back*2)+1:len(df2)-1, :] = testPredict\n",
        "# plot baseline and predictions\n",
        "plt.plot(scaler.inverse_transform(df2), label = 'Actual Data')\n",
        "plt.title('Stock Price Prediction from last 20 years Data')\n",
        "plt.xlabel('Time')\n",
        "plt.ylabel('Actual Stock Price')\n",
        "plt.plot(trainPredictPlot,color='#DE3163', label = 'Train Predicted Data')\n",
        "plt.plot(testPredictPlot, color='#FFC300', label = 'Test Predicted Data')\n",
        "plt.legend(loc='best')\n",
        "plt.show()"
      ]
    },
    {
      "cell_type": "code",
      "execution_count": null,
      "metadata": {
        "colab": {
          "base_uri": "https://localhost:8080/"
        },
        "id": "Iw5snSgqYZIu",
        "outputId": "97c51320-cefb-4381-eb67-d6d16e4c0f2b"
      },
      "outputs": [
        {
          "output_type": "stream",
          "name": "stdout",
          "text": [
            "Root mean square error of Training  =  11.79893733830435  RMSE\n",
            "Root mean square error of Testing =  45.91047489707526  RMSE\n"
          ]
        }
      ],
      "source": [
        "# calculate root mean squared error\n",
        "trainScore = math.sqrt(mean_squared_error(trainY[0], trainPredict[:,0]))\n",
        "print(\"Root mean square error of Training  = \",trainScore,\" RMSE\")\n",
        "testScore = math.sqrt(mean_squared_error(testY[0], testPredict[:,0]))\n",
        "print(\"Root mean square error of Testing = \",testScore,\" RMSE\")"
      ]
    },
    {
      "cell_type": "code",
      "execution_count": null,
      "metadata": {
        "id": "fHpzRFl9YZLD"
      },
      "outputs": [],
      "source": []
    },
    {
      "cell_type": "code",
      "execution_count": null,
      "metadata": {
        "id": "JWiikH6YYZM5"
      },
      "outputs": [],
      "source": [
        "import pandas as pd\n",
        "import numpy as np\n",
        "import matplotlib.pyplot as plt\n",
        "from textblob import TextBlob\n",
        "from datetime import datetime"
      ]
    },
    {
      "cell_type": "markdown",
      "source": [
        "## Textual Data(News Headlines) Analysis"
      ],
      "metadata": {
        "id": "jzjX0aVz0hul"
      }
    },
    {
      "cell_type": "code",
      "execution_count": null,
      "metadata": {
        "colab": {
          "base_uri": "https://localhost:8080/",
          "height": 206
        },
        "id": "wi359hJCYZPT",
        "outputId": "069b9478-6192-4070-f90d-ed968125c4cf"
      },
      "outputs": [
        {
          "output_type": "execute_result",
          "data": {
            "text/plain": [
              "   publish_date headline_category  \\\n",
              "0      20010102           unknown   \n",
              "1      20010102           unknown   \n",
              "2      20010102           unknown   \n",
              "3      20010102           unknown   \n",
              "4      20010102           unknown   \n",
              "\n",
              "                                       headline_text  \n",
              "0  Status quo will not be disturbed at Ayodhya; s...  \n",
              "1                Fissures in Hurriyat over Pak visit  \n",
              "2              America's unwanted heading for India?  \n",
              "3                 For bigwigs; it is destination Goa  \n",
              "4               Extra buses to clear tourist traffic  "
            ],
            "text/html": [
              "\n",
              "  <div id=\"df-13b1a50e-c78f-42f5-822b-0fe8a36cb859\">\n",
              "    <div class=\"colab-df-container\">\n",
              "      <div>\n",
              "<style scoped>\n",
              "    .dataframe tbody tr th:only-of-type {\n",
              "        vertical-align: middle;\n",
              "    }\n",
              "\n",
              "    .dataframe tbody tr th {\n",
              "        vertical-align: top;\n",
              "    }\n",
              "\n",
              "    .dataframe thead th {\n",
              "        text-align: right;\n",
              "    }\n",
              "</style>\n",
              "<table border=\"1\" class=\"dataframe\">\n",
              "  <thead>\n",
              "    <tr style=\"text-align: right;\">\n",
              "      <th></th>\n",
              "      <th>publish_date</th>\n",
              "      <th>headline_category</th>\n",
              "      <th>headline_text</th>\n",
              "    </tr>\n",
              "  </thead>\n",
              "  <tbody>\n",
              "    <tr>\n",
              "      <th>0</th>\n",
              "      <td>20010102</td>\n",
              "      <td>unknown</td>\n",
              "      <td>Status quo will not be disturbed at Ayodhya; s...</td>\n",
              "    </tr>\n",
              "    <tr>\n",
              "      <th>1</th>\n",
              "      <td>20010102</td>\n",
              "      <td>unknown</td>\n",
              "      <td>Fissures in Hurriyat over Pak visit</td>\n",
              "    </tr>\n",
              "    <tr>\n",
              "      <th>2</th>\n",
              "      <td>20010102</td>\n",
              "      <td>unknown</td>\n",
              "      <td>America's unwanted heading for India?</td>\n",
              "    </tr>\n",
              "    <tr>\n",
              "      <th>3</th>\n",
              "      <td>20010102</td>\n",
              "      <td>unknown</td>\n",
              "      <td>For bigwigs; it is destination Goa</td>\n",
              "    </tr>\n",
              "    <tr>\n",
              "      <th>4</th>\n",
              "      <td>20010102</td>\n",
              "      <td>unknown</td>\n",
              "      <td>Extra buses to clear tourist traffic</td>\n",
              "    </tr>\n",
              "  </tbody>\n",
              "</table>\n",
              "</div>\n",
              "      <button class=\"colab-df-convert\" onclick=\"convertToInteractive('df-13b1a50e-c78f-42f5-822b-0fe8a36cb859')\"\n",
              "              title=\"Convert this dataframe to an interactive table.\"\n",
              "              style=\"display:none;\">\n",
              "        \n",
              "  <svg xmlns=\"http://www.w3.org/2000/svg\" height=\"24px\"viewBox=\"0 0 24 24\"\n",
              "       width=\"24px\">\n",
              "    <path d=\"M0 0h24v24H0V0z\" fill=\"none\"/>\n",
              "    <path d=\"M18.56 5.44l.94 2.06.94-2.06 2.06-.94-2.06-.94-.94-2.06-.94 2.06-2.06.94zm-11 1L8.5 8.5l.94-2.06 2.06-.94-2.06-.94L8.5 2.5l-.94 2.06-2.06.94zm10 10l.94 2.06.94-2.06 2.06-.94-2.06-.94-.94-2.06-.94 2.06-2.06.94z\"/><path d=\"M17.41 7.96l-1.37-1.37c-.4-.4-.92-.59-1.43-.59-.52 0-1.04.2-1.43.59L10.3 9.45l-7.72 7.72c-.78.78-.78 2.05 0 2.83L4 21.41c.39.39.9.59 1.41.59.51 0 1.02-.2 1.41-.59l7.78-7.78 2.81-2.81c.8-.78.8-2.07 0-2.86zM5.41 20L4 18.59l7.72-7.72 1.47 1.35L5.41 20z\"/>\n",
              "  </svg>\n",
              "      </button>\n",
              "      \n",
              "  <style>\n",
              "    .colab-df-container {\n",
              "      display:flex;\n",
              "      flex-wrap:wrap;\n",
              "      gap: 12px;\n",
              "    }\n",
              "\n",
              "    .colab-df-convert {\n",
              "      background-color: #E8F0FE;\n",
              "      border: none;\n",
              "      border-radius: 50%;\n",
              "      cursor: pointer;\n",
              "      display: none;\n",
              "      fill: #1967D2;\n",
              "      height: 32px;\n",
              "      padding: 0 0 0 0;\n",
              "      width: 32px;\n",
              "    }\n",
              "\n",
              "    .colab-df-convert:hover {\n",
              "      background-color: #E2EBFA;\n",
              "      box-shadow: 0px 1px 2px rgba(60, 64, 67, 0.3), 0px 1px 3px 1px rgba(60, 64, 67, 0.15);\n",
              "      fill: #174EA6;\n",
              "    }\n",
              "\n",
              "    [theme=dark] .colab-df-convert {\n",
              "      background-color: #3B4455;\n",
              "      fill: #D2E3FC;\n",
              "    }\n",
              "\n",
              "    [theme=dark] .colab-df-convert:hover {\n",
              "      background-color: #434B5C;\n",
              "      box-shadow: 0px 1px 3px 1px rgba(0, 0, 0, 0.15);\n",
              "      filter: drop-shadow(0px 1px 2px rgba(0, 0, 0, 0.3));\n",
              "      fill: #FFFFFF;\n",
              "    }\n",
              "  </style>\n",
              "\n",
              "      <script>\n",
              "        const buttonEl =\n",
              "          document.querySelector('#df-13b1a50e-c78f-42f5-822b-0fe8a36cb859 button.colab-df-convert');\n",
              "        buttonEl.style.display =\n",
              "          google.colab.kernel.accessAllowed ? 'block' : 'none';\n",
              "\n",
              "        async function convertToInteractive(key) {\n",
              "          const element = document.querySelector('#df-13b1a50e-c78f-42f5-822b-0fe8a36cb859');\n",
              "          const dataTable =\n",
              "            await google.colab.kernel.invokeFunction('convertToInteractive',\n",
              "                                                     [key], {});\n",
              "          if (!dataTable) return;\n",
              "\n",
              "          const docLinkHtml = 'Like what you see? Visit the ' +\n",
              "            '<a target=\"_blank\" href=https://colab.research.google.com/notebooks/data_table.ipynb>data table notebook</a>'\n",
              "            + ' to learn more about interactive tables.';\n",
              "          element.innerHTML = '';\n",
              "          dataTable['output_type'] = 'display_data';\n",
              "          await google.colab.output.renderOutput(dataTable, element);\n",
              "          const docLink = document.createElement('div');\n",
              "          docLink.innerHTML = docLinkHtml;\n",
              "          element.appendChild(docLink);\n",
              "        }\n",
              "      </script>\n",
              "    </div>\n",
              "  </div>\n",
              "  "
            ]
          },
          "metadata": {},
          "execution_count": 15
        }
      ],
      "source": [
        "data = pd.read_csv('/content/drive/MyDrive/Datasets/india-news-headlines.csv')\n",
        "data.head()"
      ]
    },
    {
      "cell_type": "code",
      "execution_count": null,
      "metadata": {
        "colab": {
          "base_uri": "https://localhost:8080/"
        },
        "id": "o3t9VJ_IYZRJ",
        "outputId": "4a1a78d6-6c4c-41c8-af6d-a9fe8fc8f9e6"
      },
      "outputs": [
        {
          "output_type": "execute_result",
          "data": {
            "text/plain": [
              "0          False\n",
              "1           True\n",
              "2           True\n",
              "3           True\n",
              "4           True\n",
              "           ...  \n",
              "3650965     True\n",
              "3650966     True\n",
              "3650967     True\n",
              "3650968     True\n",
              "3650969     True\n",
              "Name: publish_date, Length: 3650970, dtype: bool"
            ]
          },
          "metadata": {},
          "execution_count": 16
        }
      ],
      "source": [
        "data['publish_date'].duplicated()"
      ]
    },
    {
      "cell_type": "code",
      "execution_count": null,
      "metadata": {
        "id": "8PGOmTQgYZTf"
      },
      "outputs": [],
      "source": [
        "data = data.drop_duplicates('publish_date', keep='first').sort_index()\n",
        "data= data.reset_index()"
      ]
    },
    {
      "cell_type": "code",
      "execution_count": null,
      "metadata": {
        "colab": {
          "base_uri": "https://localhost:8080/",
          "height": 206
        },
        "id": "Y6UE7G2vYdv5",
        "outputId": "f1597134-e0ec-476c-87b5-fc7dcc5ac6f9"
      },
      "outputs": [
        {
          "output_type": "execute_result",
          "data": {
            "text/plain": [
              "   index      Date headline_category  \\\n",
              "0      0  20010102           unknown   \n",
              "1     86  20010103           unknown   \n",
              "2    127  20010104           unknown   \n",
              "3    280  20010105           unknown   \n",
              "4    406  20010106           unknown   \n",
              "\n",
              "                                       headline_text  \n",
              "0  Status quo will not be disturbed at Ayodhya; s...  \n",
              "1           Powerless north India gropes in the dark  \n",
              "2    The string that pulled Stephen Hawking to India  \n",
              "3     Light combat craft takes India into club class  \n",
              "4     Light combat craft takes India into club class  "
            ],
            "text/html": [
              "\n",
              "  <div id=\"df-f572f7d1-9cf7-4786-bad3-5d163fd69ac5\">\n",
              "    <div class=\"colab-df-container\">\n",
              "      <div>\n",
              "<style scoped>\n",
              "    .dataframe tbody tr th:only-of-type {\n",
              "        vertical-align: middle;\n",
              "    }\n",
              "\n",
              "    .dataframe tbody tr th {\n",
              "        vertical-align: top;\n",
              "    }\n",
              "\n",
              "    .dataframe thead th {\n",
              "        text-align: right;\n",
              "    }\n",
              "</style>\n",
              "<table border=\"1\" class=\"dataframe\">\n",
              "  <thead>\n",
              "    <tr style=\"text-align: right;\">\n",
              "      <th></th>\n",
              "      <th>index</th>\n",
              "      <th>Date</th>\n",
              "      <th>headline_category</th>\n",
              "      <th>headline_text</th>\n",
              "    </tr>\n",
              "  </thead>\n",
              "  <tbody>\n",
              "    <tr>\n",
              "      <th>0</th>\n",
              "      <td>0</td>\n",
              "      <td>20010102</td>\n",
              "      <td>unknown</td>\n",
              "      <td>Status quo will not be disturbed at Ayodhya; s...</td>\n",
              "    </tr>\n",
              "    <tr>\n",
              "      <th>1</th>\n",
              "      <td>86</td>\n",
              "      <td>20010103</td>\n",
              "      <td>unknown</td>\n",
              "      <td>Powerless north India gropes in the dark</td>\n",
              "    </tr>\n",
              "    <tr>\n",
              "      <th>2</th>\n",
              "      <td>127</td>\n",
              "      <td>20010104</td>\n",
              "      <td>unknown</td>\n",
              "      <td>The string that pulled Stephen Hawking to India</td>\n",
              "    </tr>\n",
              "    <tr>\n",
              "      <th>3</th>\n",
              "      <td>280</td>\n",
              "      <td>20010105</td>\n",
              "      <td>unknown</td>\n",
              "      <td>Light combat craft takes India into club class</td>\n",
              "    </tr>\n",
              "    <tr>\n",
              "      <th>4</th>\n",
              "      <td>406</td>\n",
              "      <td>20010106</td>\n",
              "      <td>unknown</td>\n",
              "      <td>Light combat craft takes India into club class</td>\n",
              "    </tr>\n",
              "  </tbody>\n",
              "</table>\n",
              "</div>\n",
              "      <button class=\"colab-df-convert\" onclick=\"convertToInteractive('df-f572f7d1-9cf7-4786-bad3-5d163fd69ac5')\"\n",
              "              title=\"Convert this dataframe to an interactive table.\"\n",
              "              style=\"display:none;\">\n",
              "        \n",
              "  <svg xmlns=\"http://www.w3.org/2000/svg\" height=\"24px\"viewBox=\"0 0 24 24\"\n",
              "       width=\"24px\">\n",
              "    <path d=\"M0 0h24v24H0V0z\" fill=\"none\"/>\n",
              "    <path d=\"M18.56 5.44l.94 2.06.94-2.06 2.06-.94-2.06-.94-.94-2.06-.94 2.06-2.06.94zm-11 1L8.5 8.5l.94-2.06 2.06-.94-2.06-.94L8.5 2.5l-.94 2.06-2.06.94zm10 10l.94 2.06.94-2.06 2.06-.94-2.06-.94-.94-2.06-.94 2.06-2.06.94z\"/><path d=\"M17.41 7.96l-1.37-1.37c-.4-.4-.92-.59-1.43-.59-.52 0-1.04.2-1.43.59L10.3 9.45l-7.72 7.72c-.78.78-.78 2.05 0 2.83L4 21.41c.39.39.9.59 1.41.59.51 0 1.02-.2 1.41-.59l7.78-7.78 2.81-2.81c.8-.78.8-2.07 0-2.86zM5.41 20L4 18.59l7.72-7.72 1.47 1.35L5.41 20z\"/>\n",
              "  </svg>\n",
              "      </button>\n",
              "      \n",
              "  <style>\n",
              "    .colab-df-container {\n",
              "      display:flex;\n",
              "      flex-wrap:wrap;\n",
              "      gap: 12px;\n",
              "    }\n",
              "\n",
              "    .colab-df-convert {\n",
              "      background-color: #E8F0FE;\n",
              "      border: none;\n",
              "      border-radius: 50%;\n",
              "      cursor: pointer;\n",
              "      display: none;\n",
              "      fill: #1967D2;\n",
              "      height: 32px;\n",
              "      padding: 0 0 0 0;\n",
              "      width: 32px;\n",
              "    }\n",
              "\n",
              "    .colab-df-convert:hover {\n",
              "      background-color: #E2EBFA;\n",
              "      box-shadow: 0px 1px 2px rgba(60, 64, 67, 0.3), 0px 1px 3px 1px rgba(60, 64, 67, 0.15);\n",
              "      fill: #174EA6;\n",
              "    }\n",
              "\n",
              "    [theme=dark] .colab-df-convert {\n",
              "      background-color: #3B4455;\n",
              "      fill: #D2E3FC;\n",
              "    }\n",
              "\n",
              "    [theme=dark] .colab-df-convert:hover {\n",
              "      background-color: #434B5C;\n",
              "      box-shadow: 0px 1px 3px 1px rgba(0, 0, 0, 0.15);\n",
              "      filter: drop-shadow(0px 1px 2px rgba(0, 0, 0, 0.3));\n",
              "      fill: #FFFFFF;\n",
              "    }\n",
              "  </style>\n",
              "\n",
              "      <script>\n",
              "        const buttonEl =\n",
              "          document.querySelector('#df-f572f7d1-9cf7-4786-bad3-5d163fd69ac5 button.colab-df-convert');\n",
              "        buttonEl.style.display =\n",
              "          google.colab.kernel.accessAllowed ? 'block' : 'none';\n",
              "\n",
              "        async function convertToInteractive(key) {\n",
              "          const element = document.querySelector('#df-f572f7d1-9cf7-4786-bad3-5d163fd69ac5');\n",
              "          const dataTable =\n",
              "            await google.colab.kernel.invokeFunction('convertToInteractive',\n",
              "                                                     [key], {});\n",
              "          if (!dataTable) return;\n",
              "\n",
              "          const docLinkHtml = 'Like what you see? Visit the ' +\n",
              "            '<a target=\"_blank\" href=https://colab.research.google.com/notebooks/data_table.ipynb>data table notebook</a>'\n",
              "            + ' to learn more about interactive tables.';\n",
              "          element.innerHTML = '';\n",
              "          dataTable['output_type'] = 'display_data';\n",
              "          await google.colab.output.renderOutput(dataTable, element);\n",
              "          const docLink = document.createElement('div');\n",
              "          docLink.innerHTML = docLinkHtml;\n",
              "          element.appendChild(docLink);\n",
              "        }\n",
              "      </script>\n",
              "    </div>\n",
              "  </div>\n",
              "  "
            ]
          },
          "metadata": {},
          "execution_count": 18
        }
      ],
      "source": [
        "data.rename(columns={'publish_date': 'Date'},inplace = True)\n",
        "data.head()"
      ]
    },
    {
      "cell_type": "code",
      "source": [
        "data['Date'] = pd.to_datetime(data.Date,format='%Y%m%d')"
      ],
      "metadata": {
        "id": "I6xzUXikU7r9"
      },
      "execution_count": null,
      "outputs": []
    },
    {
      "cell_type": "code",
      "execution_count": null,
      "metadata": {
        "colab": {
          "base_uri": "https://localhost:8080/"
        },
        "id": "K__F6oPJYdya",
        "outputId": "4f10ec34-242a-48f1-e9b5-d9ca58fa65d9"
      },
      "outputs": [
        {
          "output_type": "stream",
          "name": "stdout",
          "text": [
            "<class 'pandas.core.frame.DataFrame'>\n",
            "RangeIndex: 7717 entries, 0 to 7716\n",
            "Data columns (total 4 columns):\n",
            " #   Column             Non-Null Count  Dtype         \n",
            "---  ------             --------------  -----         \n",
            " 0   index              7717 non-null   int64         \n",
            " 1   Date               7717 non-null   datetime64[ns]\n",
            " 2   headline_category  7717 non-null   object        \n",
            " 3   headline_text      7717 non-null   object        \n",
            "dtypes: datetime64[ns](1), int64(1), object(2)\n",
            "memory usage: 241.3+ KB\n"
          ]
        }
      ],
      "source": [
        "data.info()"
      ]
    },
    {
      "cell_type": "code",
      "execution_count": null,
      "metadata": {
        "colab": {
          "base_uri": "https://localhost:8080/"
        },
        "id": "bnvcXHHbYd1A",
        "outputId": "d3d84339-53cf-430e-c77b-14a835b597a0"
      },
      "outputs": [
        {
          "output_type": "execute_result",
          "data": {
            "text/plain": [
              "unknown                                  987\n",
              "entertainment.hindi.bollywood            732\n",
              "india                                    343\n",
              "life-style.relationships.man-woman       332\n",
              "edit-page                                256\n",
              "                                        ... \n",
              "shobhaa-de.politically-incorrect           1\n",
              "city.jammu                                 1\n",
              "friendship-day                             1\n",
              "entertainment.marathi.movies.previews      1\n",
              "astrology.horoscope.yearly                 1\n",
              "Name: headline_category, Length: 330, dtype: int64"
            ]
          },
          "metadata": {},
          "execution_count": 23
        }
      ],
      "source": [
        "data['headline_category'].value_counts()"
      ]
    },
    {
      "cell_type": "code",
      "execution_count": null,
      "metadata": {
        "id": "8SCQ2uFSZEqE"
      },
      "outputs": [],
      "source": [
        "def getAnalysis_polarity(headline):\n",
        "    result = TextBlob(headline)\n",
        "    \n",
        "    if result.sentiment.polarity < 0:\n",
        "        return 'negative'\n",
        "    elif result.sentiment.polarity == 0:\n",
        "        return 'neutral'\n",
        "    else:\n",
        "        return 'positive'"
      ]
    },
    {
      "cell_type": "code",
      "execution_count": null,
      "metadata": {
        "id": "bB9odJYTZEsb"
      },
      "outputs": [],
      "source": [
        "data['Result'] = np.array([getAnalysis_polarity(headline) for headline in data['headline_text']])\n"
      ]
    },
    {
      "cell_type": "code",
      "execution_count": null,
      "metadata": {
        "colab": {
          "base_uri": "https://localhost:8080/",
          "height": 175
        },
        "id": "OQmt-gueZEup",
        "outputId": "137c0329-9c82-4e0d-e2c0-43f428c4c41b"
      },
      "outputs": [
        {
          "output_type": "execute_result",
          "data": {
            "text/plain": [
              "          headline_text\n",
              "Result                 \n",
              "negative            773\n",
              "neutral            5113\n",
              "positive           1831"
            ],
            "text/html": [
              "\n",
              "  <div id=\"df-98336339-bd7b-43bd-806e-c3e3535e6c4c\">\n",
              "    <div class=\"colab-df-container\">\n",
              "      <div>\n",
              "<style scoped>\n",
              "    .dataframe tbody tr th:only-of-type {\n",
              "        vertical-align: middle;\n",
              "    }\n",
              "\n",
              "    .dataframe tbody tr th {\n",
              "        vertical-align: top;\n",
              "    }\n",
              "\n",
              "    .dataframe thead th {\n",
              "        text-align: right;\n",
              "    }\n",
              "</style>\n",
              "<table border=\"1\" class=\"dataframe\">\n",
              "  <thead>\n",
              "    <tr style=\"text-align: right;\">\n",
              "      <th></th>\n",
              "      <th>headline_text</th>\n",
              "    </tr>\n",
              "    <tr>\n",
              "      <th>Result</th>\n",
              "      <th></th>\n",
              "    </tr>\n",
              "  </thead>\n",
              "  <tbody>\n",
              "    <tr>\n",
              "      <th>negative</th>\n",
              "      <td>773</td>\n",
              "    </tr>\n",
              "    <tr>\n",
              "      <th>neutral</th>\n",
              "      <td>5113</td>\n",
              "    </tr>\n",
              "    <tr>\n",
              "      <th>positive</th>\n",
              "      <td>1831</td>\n",
              "    </tr>\n",
              "  </tbody>\n",
              "</table>\n",
              "</div>\n",
              "      <button class=\"colab-df-convert\" onclick=\"convertToInteractive('df-98336339-bd7b-43bd-806e-c3e3535e6c4c')\"\n",
              "              title=\"Convert this dataframe to an interactive table.\"\n",
              "              style=\"display:none;\">\n",
              "        \n",
              "  <svg xmlns=\"http://www.w3.org/2000/svg\" height=\"24px\"viewBox=\"0 0 24 24\"\n",
              "       width=\"24px\">\n",
              "    <path d=\"M0 0h24v24H0V0z\" fill=\"none\"/>\n",
              "    <path d=\"M18.56 5.44l.94 2.06.94-2.06 2.06-.94-2.06-.94-.94-2.06-.94 2.06-2.06.94zm-11 1L8.5 8.5l.94-2.06 2.06-.94-2.06-.94L8.5 2.5l-.94 2.06-2.06.94zm10 10l.94 2.06.94-2.06 2.06-.94-2.06-.94-.94-2.06-.94 2.06-2.06.94z\"/><path d=\"M17.41 7.96l-1.37-1.37c-.4-.4-.92-.59-1.43-.59-.52 0-1.04.2-1.43.59L10.3 9.45l-7.72 7.72c-.78.78-.78 2.05 0 2.83L4 21.41c.39.39.9.59 1.41.59.51 0 1.02-.2 1.41-.59l7.78-7.78 2.81-2.81c.8-.78.8-2.07 0-2.86zM5.41 20L4 18.59l7.72-7.72 1.47 1.35L5.41 20z\"/>\n",
              "  </svg>\n",
              "      </button>\n",
              "      \n",
              "  <style>\n",
              "    .colab-df-container {\n",
              "      display:flex;\n",
              "      flex-wrap:wrap;\n",
              "      gap: 12px;\n",
              "    }\n",
              "\n",
              "    .colab-df-convert {\n",
              "      background-color: #E8F0FE;\n",
              "      border: none;\n",
              "      border-radius: 50%;\n",
              "      cursor: pointer;\n",
              "      display: none;\n",
              "      fill: #1967D2;\n",
              "      height: 32px;\n",
              "      padding: 0 0 0 0;\n",
              "      width: 32px;\n",
              "    }\n",
              "\n",
              "    .colab-df-convert:hover {\n",
              "      background-color: #E2EBFA;\n",
              "      box-shadow: 0px 1px 2px rgba(60, 64, 67, 0.3), 0px 1px 3px 1px rgba(60, 64, 67, 0.15);\n",
              "      fill: #174EA6;\n",
              "    }\n",
              "\n",
              "    [theme=dark] .colab-df-convert {\n",
              "      background-color: #3B4455;\n",
              "      fill: #D2E3FC;\n",
              "    }\n",
              "\n",
              "    [theme=dark] .colab-df-convert:hover {\n",
              "      background-color: #434B5C;\n",
              "      box-shadow: 0px 1px 3px 1px rgba(0, 0, 0, 0.15);\n",
              "      filter: drop-shadow(0px 1px 2px rgba(0, 0, 0, 0.3));\n",
              "      fill: #FFFFFF;\n",
              "    }\n",
              "  </style>\n",
              "\n",
              "      <script>\n",
              "        const buttonEl =\n",
              "          document.querySelector('#df-98336339-bd7b-43bd-806e-c3e3535e6c4c button.colab-df-convert');\n",
              "        buttonEl.style.display =\n",
              "          google.colab.kernel.accessAllowed ? 'block' : 'none';\n",
              "\n",
              "        async function convertToInteractive(key) {\n",
              "          const element = document.querySelector('#df-98336339-bd7b-43bd-806e-c3e3535e6c4c');\n",
              "          const dataTable =\n",
              "            await google.colab.kernel.invokeFunction('convertToInteractive',\n",
              "                                                     [key], {});\n",
              "          if (!dataTable) return;\n",
              "\n",
              "          const docLinkHtml = 'Like what you see? Visit the ' +\n",
              "            '<a target=\"_blank\" href=https://colab.research.google.com/notebooks/data_table.ipynb>data table notebook</a>'\n",
              "            + ' to learn more about interactive tables.';\n",
              "          element.innerHTML = '';\n",
              "          dataTable['output_type'] = 'display_data';\n",
              "          await google.colab.output.renderOutput(dataTable, element);\n",
              "          const docLink = document.createElement('div');\n",
              "          docLink.innerHTML = docLinkHtml;\n",
              "          element.appendChild(docLink);\n",
              "        }\n",
              "      </script>\n",
              "    </div>\n",
              "  </div>\n",
              "  "
            ]
          },
          "metadata": {},
          "execution_count": 26
        }
      ],
      "source": [
        "final_result = data.groupby(['Result']).agg({'headline_text':'count'})\n",
        "final_result"
      ]
    },
    {
      "cell_type": "code",
      "execution_count": null,
      "metadata": {
        "colab": {
          "base_uri": "https://localhost:8080/"
        },
        "id": "Rz9xQe1vZExI",
        "outputId": "807176b9-e206-4746-8e6a-d7d1b2a34a4c"
      },
      "outputs": [
        {
          "output_type": "stream",
          "name": "stdout",
          "text": [
            "Positive Headlines:  headline_text    23.726837\n",
            "Name: positive, dtype: float64\n",
            "\n",
            "\n",
            "Negative Headlines:  headline_text    10.016846\n",
            "Name: negative, dtype: float64\n",
            "\n",
            "\n",
            "Unbiased Headlines:  headline_text    66.256317\n",
            "Name: neutral, dtype: float64\n"
          ]
        }
      ],
      "source": [
        "negative = (final_result.loc['negative'] / len(data))*100\n",
        "neutral = (final_result.loc['neutral'] / len(data))*100\n",
        "positive = (final_result.loc['positive'] / len(data))*100\n",
        "\n",
        "\n",
        "print('Positive Headlines: ' , positive )\n",
        "print('\\n\\nNegative Headlines: ' ,negative )\n",
        "print('\\n\\nUnbiased Headlines: ' , str(neutral))"
      ]
    },
    {
      "cell_type": "code",
      "execution_count": null,
      "metadata": {
        "colab": {
          "base_uri": "https://localhost:8080/",
          "height": 482
        },
        "id": "7yZ9AfggZOD8",
        "outputId": "1e99763f-a7f1-4eb3-de6e-c57041f3bdf8"
      },
      "outputs": [
        {
          "output_type": "display_data",
          "data": {
            "text/plain": [
              "<Figure size 576x576 with 1 Axes>"
            ],
            "image/png": "[encoded data removed]"
          },
          "metadata": {}
        }
      ],
      "source": [
        "plt.figure(figsize=(8,8))\n",
        "final_result['headline_text'].plot.pie(autopct='%1.1f%%')\n",
        "plt.title(\"Overall Sentiment Distribution Pie Chart\",fontweight=\"bold\")\n",
        "plt.show()"
      ]
    },
    {
      "cell_type": "markdown",
      "source": [
        "## Creating Hybrid model for stock price/performance prediction using numerical analysis of historical stock prices, and sentimental analysis of news headlines"
      ],
      "metadata": {
        "id": "3mCn2vA_07xL"
      }
    },
    {
      "cell_type": "code",
      "execution_count": null,
      "metadata": {
        "colab": {
          "base_uri": "https://localhost:8080/"
        },
        "id": "Het4LBPzZOGR",
        "outputId": "2d699e01-061f-40f4-a959-f075224fc10a"
      },
      "outputs": [
        {
          "output_type": "stream",
          "name": "stdout",
          "text": [
            "Looking in indexes: https://pypi.org/simple, https://us-python.pkg.dev/colab-wheels/public/simple/\n",
            "Collecting vaderSentiment\n",
            "  Downloading vaderSentiment-3.3.2-py2.py3-none-any.whl (125 kB)\n",
            "\u001b[K     |████████████████████████████████| 125 kB 3.9 MB/s \n",
            "\u001b[?25hRequirement already satisfied: requests in /usr/local/lib/python3.7/dist-packages (from vaderSentiment) (2.23.0)\n",
            "Requirement already satisfied: idna<3,>=2.5 in /usr/local/lib/python3.7/dist-packages (from requests->vaderSentiment) (2.10)\n",
            "Requirement already satisfied: urllib3!=1.25.0,!=1.25.1,<1.26,>=1.21.1 in /usr/local/lib/python3.7/dist-packages (from requests->vaderSentiment) (1.24.3)\n",
            "Requirement already satisfied: certifi>=2017.4.17 in /usr/local/lib/python3.7/dist-packages (from requests->vaderSentiment) (2022.6.15)\n",
            "Requirement already satisfied: chardet<4,>=3.0.2 in /usr/local/lib/python3.7/dist-packages (from requests->vaderSentiment) (3.0.4)\n",
            "Installing collected packages: vaderSentiment\n",
            "Successfully installed vaderSentiment-3.3.2\n"
          ]
        }
      ],
      "source": [
        "!pip install vaderSentiment"
      ]
    },
    {
      "cell_type": "code",
      "execution_count": null,
      "metadata": {
        "id": "iKqCcrIzZOIt"
      },
      "outputs": [],
      "source": [
        "import re\n",
        "from vaderSentiment.vaderSentiment import SentimentIntensityAnalyzer\n",
        "from sklearn.model_selection import train_test_split\n",
        "from sklearn.metrics import accuracy_score\n",
        "from sklearn.ensemble._forest import RandomForestClassifier\n",
        "from sklearn.linear_model import LogisticRegression\n",
        "from sklearn.tree import DecisionTreeClassifier\n",
        "from sklearn.discriminant_analysis import LinearDiscriminantAnalysis\n",
        "from sklearn.ensemble import AdaBoostClassifier\n",
        "from sklearn.ensemble import GradientBoostingClassifier"
      ]
    },
    {
      "cell_type": "code",
      "execution_count": null,
      "metadata": {
        "colab": {
          "base_uri": "https://localhost:8080/",
          "height": 206
        },
        "id": "NGJo3lN5ZOK4",
        "outputId": "cf8dc177-88f2-4566-9e0b-4b266b025603"
      },
      "outputs": [
        {
          "output_type": "execute_result",
          "data": {
            "text/plain": [
              "         Date       Open       High        Low      Close  Adj Close  \\\n",
              "0  2002-07-01  40.111111  40.724445  40.111111  40.435555  30.959587   \n",
              "1  2002-07-02  40.555553  40.933334  40.444443  40.533333  31.034466   \n",
              "2  2002-07-03  40.688889  40.755554  40.022221  40.080002  30.687366   \n",
              "3  2002-07-04  40.244446  40.377777  39.835556  39.924442  30.568254   \n",
              "4  2002-07-05  39.799999  40.222221  39.799999  40.022221  30.643120   \n",
              "\n",
              "      Volume  \n",
              "0  3709080.0  \n",
              "1  2500024.0  \n",
              "2  1910772.0  \n",
              "3  1515924.0  \n",
              "4  1038928.0  "
            ],
            "text/html": [
              "\n",
              "  <div id=\"df-906f0c60-9d6d-4099-8701-cfe10907a991\">\n",
              "    <div class=\"colab-df-container\">\n",
              "      <div>\n",
              "<style scoped>\n",
              "    .dataframe tbody tr th:only-of-type {\n",
              "        vertical-align: middle;\n",
              "    }\n",
              "\n",
              "    .dataframe tbody tr th {\n",
              "        vertical-align: top;\n",
              "    }\n",
              "\n",
              "    .dataframe thead th {\n",
              "        text-align: right;\n",
              "    }\n",
              "</style>\n",
              "<table border=\"1\" class=\"dataframe\">\n",
              "  <thead>\n",
              "    <tr style=\"text-align: right;\">\n",
              "      <th></th>\n",
              "      <th>Date</th>\n",
              "      <th>Open</th>\n",
              "      <th>High</th>\n",
              "      <th>Low</th>\n",
              "      <th>Close</th>\n",
              "      <th>Adj Close</th>\n",
              "      <th>Volume</th>\n",
              "    </tr>\n",
              "  </thead>\n",
              "  <tbody>\n",
              "    <tr>\n",
              "      <th>0</th>\n",
              "      <td>2002-07-01</td>\n",
              "      <td>40.111111</td>\n",
              "      <td>40.724445</td>\n",
              "      <td>40.111111</td>\n",
              "      <td>40.435555</td>\n",
              "      <td>30.959587</td>\n",
              "      <td>3709080.0</td>\n",
              "    </tr>\n",
              "    <tr>\n",
              "      <th>1</th>\n",
              "      <td>2002-07-02</td>\n",
              "      <td>40.555553</td>\n",
              "      <td>40.933334</td>\n",
              "      <td>40.444443</td>\n",
              "      <td>40.533333</td>\n",
              "      <td>31.034466</td>\n",
              "      <td>2500024.0</td>\n",
              "    </tr>\n",
              "    <tr>\n",
              "      <th>2</th>\n",
              "      <td>2002-07-03</td>\n",
              "      <td>40.688889</td>\n",
              "      <td>40.755554</td>\n",
              "      <td>40.022221</td>\n",
              "      <td>40.080002</td>\n",
              "      <td>30.687366</td>\n",
              "      <td>1910772.0</td>\n",
              "    </tr>\n",
              "    <tr>\n",
              "      <th>3</th>\n",
              "      <td>2002-07-04</td>\n",
              "      <td>40.244446</td>\n",
              "      <td>40.377777</td>\n",
              "      <td>39.835556</td>\n",
              "      <td>39.924442</td>\n",
              "      <td>30.568254</td>\n",
              "      <td>1515924.0</td>\n",
              "    </tr>\n",
              "    <tr>\n",
              "      <th>4</th>\n",
              "      <td>2002-07-05</td>\n",
              "      <td>39.799999</td>\n",
              "      <td>40.222221</td>\n",
              "      <td>39.799999</td>\n",
              "      <td>40.022221</td>\n",
              "      <td>30.643120</td>\n",
              "      <td>1038928.0</td>\n",
              "    </tr>\n",
              "  </tbody>\n",
              "</table>\n",
              "</div>\n",
              "      <button class=\"colab-df-convert\" onclick=\"convertToInteractive('df-906f0c60-9d6d-4099-8701-cfe10907a991')\"\n",
              "              title=\"Convert this dataframe to an interactive table.\"\n",
              "              style=\"display:none;\">\n",
              "        \n",
              "  <svg xmlns=\"http://www.w3.org/2000/svg\" height=\"24px\"viewBox=\"0 0 24 24\"\n",
              "       width=\"24px\">\n",
              "    <path d=\"M0 0h24v24H0V0z\" fill=\"none\"/>\n",
              "    <path d=\"M18.56 5.44l.94 2.06.94-2.06 2.06-.94-2.06-.94-.94-2.06-.94 2.06-2.06.94zm-11 1L8.5 8.5l.94-2.06 2.06-.94-2.06-.94L8.5 2.5l-.94 2.06-2.06.94zm10 10l.94 2.06.94-2.06 2.06-.94-2.06-.94-.94-2.06-.94 2.06-2.06.94z\"/><path d=\"M17.41 7.96l-1.37-1.37c-.4-.4-.92-.59-1.43-.59-.52 0-1.04.2-1.43.59L10.3 9.45l-7.72 7.72c-.78.78-.78 2.05 0 2.83L4 21.41c.39.39.9.59 1.41.59.51 0 1.02-.2 1.41-.59l7.78-7.78 2.81-2.81c.8-.78.8-2.07 0-2.86zM5.41 20L4 18.59l7.72-7.72 1.47 1.35L5.41 20z\"/>\n",
              "  </svg>\n",
              "      </button>\n",
              "      \n",
              "  <style>\n",
              "    .colab-df-container {\n",
              "      display:flex;\n",
              "      flex-wrap:wrap;\n",
              "      gap: 12px;\n",
              "    }\n",
              "\n",
              "    .colab-df-convert {\n",
              "      background-color: #E8F0FE;\n",
              "      border: none;\n",
              "      border-radius: 50%;\n",
              "      cursor: pointer;\n",
              "      display: none;\n",
              "      fill: #1967D2;\n",
              "      height: 32px;\n",
              "      padding: 0 0 0 0;\n",
              "      width: 32px;\n",
              "    }\n",
              "\n",
              "    .colab-df-convert:hover {\n",
              "      background-color: #E2EBFA;\n",
              "      box-shadow: 0px 1px 2px rgba(60, 64, 67, 0.3), 0px 1px 3px 1px rgba(60, 64, 67, 0.15);\n",
              "      fill: #174EA6;\n",
              "    }\n",
              "\n",
              "    [theme=dark] .colab-df-convert {\n",
              "      background-color: #3B4455;\n",
              "      fill: #D2E3FC;\n",
              "    }\n",
              "\n",
              "    [theme=dark] .colab-df-convert:hover {\n",
              "      background-color: #434B5C;\n",
              "      box-shadow: 0px 1px 3px 1px rgba(0, 0, 0, 0.15);\n",
              "      filter: drop-shadow(0px 1px 2px rgba(0, 0, 0, 0.3));\n",
              "      fill: #FFFFFF;\n",
              "    }\n",
              "  </style>\n",
              "\n",
              "      <script>\n",
              "        const buttonEl =\n",
              "          document.querySelector('#df-906f0c60-9d6d-4099-8701-cfe10907a991 button.colab-df-convert');\n",
              "        buttonEl.style.display =\n",
              "          google.colab.kernel.accessAllowed ? 'block' : 'none';\n",
              "\n",
              "        async function convertToInteractive(key) {\n",
              "          const element = document.querySelector('#df-906f0c60-9d6d-4099-8701-cfe10907a991');\n",
              "          const dataTable =\n",
              "            await google.colab.kernel.invokeFunction('convertToInteractive',\n",
              "                                                     [key], {});\n",
              "          if (!dataTable) return;\n",
              "\n",
              "          const docLinkHtml = 'Like what you see? Visit the ' +\n",
              "            '<a target=\"_blank\" href=https://colab.research.google.com/notebooks/data_table.ipynb>data table notebook</a>'\n",
              "            + ' to learn more about interactive tables.';\n",
              "          element.innerHTML = '';\n",
              "          dataTable['output_type'] = 'display_data';\n",
              "          await google.colab.output.renderOutput(dataTable, element);\n",
              "          const docLink = document.createElement('div');\n",
              "          docLink.innerHTML = docLinkHtml;\n",
              "          element.appendChild(docLink);\n",
              "        }\n",
              "      </script>\n",
              "    </div>\n",
              "  </div>\n",
              "  "
            ]
          },
          "metadata": {},
          "execution_count": 31
        }
      ],
      "source": [
        "stock_data=pd.read_csv('/content/LT.NS2.csv')\n",
        "stock_data.head()"
      ]
    },
    {
      "cell_type": "code",
      "execution_count": null,
      "metadata": {
        "id": "ULjN1FJZv8s3"
      },
      "outputs": [],
      "source": [
        "stock_data['Date'] = pd.to_datetime(stock_data['Date'],format='%Y-%m-%d')"
      ]
    },
    {
      "cell_type": "code",
      "execution_count": null,
      "metadata": {
        "colab": {
          "base_uri": "https://localhost:8080/",
          "height": 206
        },
        "id": "-VaQ9gO9ZSmJ",
        "outputId": "104aefe7-5124-4b69-d6b0-02ff446f4ea6"
      },
      "outputs": [
        {
          "output_type": "execute_result",
          "data": {
            "text/plain": [
              "   publish_date headline_category  \\\n",
              "0      20010102           unknown   \n",
              "1      20010102           unknown   \n",
              "2      20010102           unknown   \n",
              "3      20010102           unknown   \n",
              "4      20010102           unknown   \n",
              "\n",
              "                                       headline_text  \n",
              "0  Status quo will not be disturbed at Ayodhya; s...  \n",
              "1                Fissures in Hurriyat over Pak visit  \n",
              "2              America's unwanted heading for India?  \n",
              "3                 For bigwigs; it is destination Goa  \n",
              "4               Extra buses to clear tourist traffic  "
            ],
            "text/html": [
              "\n",
              "  <div id=\"df-8fbfdda6-c5fb-4361-89b3-ada70b1c77cd\">\n",
              "    <div class=\"colab-df-container\">\n",
              "      <div>\n",
              "<style scoped>\n",
              "    .dataframe tbody tr th:only-of-type {\n",
              "        vertical-align: middle;\n",
              "    }\n",
              "\n",
              "    .dataframe tbody tr th {\n",
              "        vertical-align: top;\n",
              "    }\n",
              "\n",
              "    .dataframe thead th {\n",
              "        text-align: right;\n",
              "    }\n",
              "</style>\n",
              "<table border=\"1\" class=\"dataframe\">\n",
              "  <thead>\n",
              "    <tr style=\"text-align: right;\">\n",
              "      <th></th>\n",
              "      <th>publish_date</th>\n",
              "      <th>headline_category</th>\n",
              "      <th>headline_text</th>\n",
              "    </tr>\n",
              "  </thead>\n",
              "  <tbody>\n",
              "    <tr>\n",
              "      <th>0</th>\n",
              "      <td>20010102</td>\n",
              "      <td>unknown</td>\n",
              "      <td>Status quo will not be disturbed at Ayodhya; s...</td>\n",
              "    </tr>\n",
              "    <tr>\n",
              "      <th>1</th>\n",
              "      <td>20010102</td>\n",
              "      <td>unknown</td>\n",
              "      <td>Fissures in Hurriyat over Pak visit</td>\n",
              "    </tr>\n",
              "    <tr>\n",
              "      <th>2</th>\n",
              "      <td>20010102</td>\n",
              "      <td>unknown</td>\n",
              "      <td>America's unwanted heading for India?</td>\n",
              "    </tr>\n",
              "    <tr>\n",
              "      <th>3</th>\n",
              "      <td>20010102</td>\n",
              "      <td>unknown</td>\n",
              "      <td>For bigwigs; it is destination Goa</td>\n",
              "    </tr>\n",
              "    <tr>\n",
              "      <th>4</th>\n",
              "      <td>20010102</td>\n",
              "      <td>unknown</td>\n",
              "      <td>Extra buses to clear tourist traffic</td>\n",
              "    </tr>\n",
              "  </tbody>\n",
              "</table>\n",
              "</div>\n",
              "      <button class=\"colab-df-convert\" onclick=\"convertToInteractive('df-8fbfdda6-c5fb-4361-89b3-ada70b1c77cd')\"\n",
              "              title=\"Convert this dataframe to an interactive table.\"\n",
              "              style=\"display:none;\">\n",
              "        \n",
              "  <svg xmlns=\"http://www.w3.org/2000/svg\" height=\"24px\"viewBox=\"0 0 24 24\"\n",
              "       width=\"24px\">\n",
              "    <path d=\"M0 0h24v24H0V0z\" fill=\"none\"/>\n",
              "    <path d=\"M18.56 5.44l.94 2.06.94-2.06 2.06-.94-2.06-.94-.94-2.06-.94 2.06-2.06.94zm-11 1L8.5 8.5l.94-2.06 2.06-.94-2.06-.94L8.5 2.5l-.94 2.06-2.06.94zm10 10l.94 2.06.94-2.06 2.06-.94-2.06-.94-.94-2.06-.94 2.06-2.06.94z\"/><path d=\"M17.41 7.96l-1.37-1.37c-.4-.4-.92-.59-1.43-.59-.52 0-1.04.2-1.43.59L10.3 9.45l-7.72 7.72c-.78.78-.78 2.05 0 2.83L4 21.41c.39.39.9.59 1.41.59.51 0 1.02-.2 1.41-.59l7.78-7.78 2.81-2.81c.8-.78.8-2.07 0-2.86zM5.41 20L4 18.59l7.72-7.72 1.47 1.35L5.41 20z\"/>\n",
              "  </svg>\n",
              "      </button>\n",
              "      \n",
              "  <style>\n",
              "    .colab-df-container {\n",
              "      display:flex;\n",
              "      flex-wrap:wrap;\n",
              "      gap: 12px;\n",
              "    }\n",
              "\n",
              "    .colab-df-convert {\n",
              "      background-color: #E8F0FE;\n",
              "      border: none;\n",
              "      border-radius: 50%;\n",
              "      cursor: pointer;\n",
              "      display: none;\n",
              "      fill: #1967D2;\n",
              "      height: 32px;\n",
              "      padding: 0 0 0 0;\n",
              "      width: 32px;\n",
              "    }\n",
              "\n",
              "    .colab-df-convert:hover {\n",
              "      background-color: #E2EBFA;\n",
              "      box-shadow: 0px 1px 2px rgba(60, 64, 67, 0.3), 0px 1px 3px 1px rgba(60, 64, 67, 0.15);\n",
              "      fill: #174EA6;\n",
              "    }\n",
              "\n",
              "    [theme=dark] .colab-df-convert {\n",
              "      background-color: #3B4455;\n",
              "      fill: #D2E3FC;\n",
              "    }\n",
              "\n",
              "    [theme=dark] .colab-df-convert:hover {\n",
              "      background-color: #434B5C;\n",
              "      box-shadow: 0px 1px 3px 1px rgba(0, 0, 0, 0.15);\n",
              "      filter: drop-shadow(0px 1px 2px rgba(0, 0, 0, 0.3));\n",
              "      fill: #FFFFFF;\n",
              "    }\n",
              "  </style>\n",
              "\n",
              "      <script>\n",
              "        const buttonEl =\n",
              "          document.querySelector('#df-8fbfdda6-c5fb-4361-89b3-ada70b1c77cd button.colab-df-convert');\n",
              "        buttonEl.style.display =\n",
              "          google.colab.kernel.accessAllowed ? 'block' : 'none';\n",
              "\n",
              "        async function convertToInteractive(key) {\n",
              "          const element = document.querySelector('#df-8fbfdda6-c5fb-4361-89b3-ada70b1c77cd');\n",
              "          const dataTable =\n",
              "            await google.colab.kernel.invokeFunction('convertToInteractive',\n",
              "                                                     [key], {});\n",
              "          if (!dataTable) return;\n",
              "\n",
              "          const docLinkHtml = 'Like what you see? Visit the ' +\n",
              "            '<a target=\"_blank\" href=https://colab.research.google.com/notebooks/data_table.ipynb>data table notebook</a>'\n",
              "            + ' to learn more about interactive tables.';\n",
              "          element.innerHTML = '';\n",
              "          dataTable['output_type'] = 'display_data';\n",
              "          await google.colab.output.renderOutput(dataTable, element);\n",
              "          const docLink = document.createElement('div');\n",
              "          docLink.innerHTML = docLinkHtml;\n",
              "          element.appendChild(docLink);\n",
              "        }\n",
              "      </script>\n",
              "    </div>\n",
              "  </div>\n",
              "  "
            ]
          },
          "metadata": {},
          "execution_count": 33
        }
      ],
      "source": [
        "news_data=pd.read_csv('/content/drive/MyDrive/Datasets/india-news-headlines.csv')\n",
        "news_data.head()"
      ]
    },
    {
      "cell_type": "code",
      "execution_count": null,
      "metadata": {
        "colab": {
          "base_uri": "https://localhost:8080/",
          "height": 206
        },
        "id": "AfHVYpLwZSoi",
        "outputId": "c2073fa8-1339-4d11-ac4f-dc584abe3ee3"
      },
      "outputs": [
        {
          "output_type": "execute_result",
          "data": {
            "text/plain": [
              "       Date headline_category  \\\n",
              "0  20010102           unknown   \n",
              "1  20010102           unknown   \n",
              "2  20010102           unknown   \n",
              "3  20010102           unknown   \n",
              "4  20010102           unknown   \n",
              "\n",
              "                                       headline_text  \n",
              "0  Status quo will not be disturbed at Ayodhya; s...  \n",
              "1                Fissures in Hurriyat over Pak visit  \n",
              "2              America's unwanted heading for India?  \n",
              "3                 For bigwigs; it is destination Goa  \n",
              "4               Extra buses to clear tourist traffic  "
            ],
            "text/html": [
              "\n",
              "  <div id=\"df-8c75e6d3-8115-46d7-a215-018ca1c5d40e\">\n",
              "    <div class=\"colab-df-container\">\n",
              "      <div>\n",
              "<style scoped>\n",
              "    .dataframe tbody tr th:only-of-type {\n",
              "        vertical-align: middle;\n",
              "    }\n",
              "\n",
              "    .dataframe tbody tr th {\n",
              "        vertical-align: top;\n",
              "    }\n",
              "\n",
              "    .dataframe thead th {\n",
              "        text-align: right;\n",
              "    }\n",
              "</style>\n",
              "<table border=\"1\" class=\"dataframe\">\n",
              "  <thead>\n",
              "    <tr style=\"text-align: right;\">\n",
              "      <th></th>\n",
              "      <th>Date</th>\n",
              "      <th>headline_category</th>\n",
              "      <th>headline_text</th>\n",
              "    </tr>\n",
              "  </thead>\n",
              "  <tbody>\n",
              "    <tr>\n",
              "      <th>0</th>\n",
              "      <td>20010102</td>\n",
              "      <td>unknown</td>\n",
              "      <td>Status quo will not be disturbed at Ayodhya; s...</td>\n",
              "    </tr>\n",
              "    <tr>\n",
              "      <th>1</th>\n",
              "      <td>20010102</td>\n",
              "      <td>unknown</td>\n",
              "      <td>Fissures in Hurriyat over Pak visit</td>\n",
              "    </tr>\n",
              "    <tr>\n",
              "      <th>2</th>\n",
              "      <td>20010102</td>\n",
              "      <td>unknown</td>\n",
              "      <td>America's unwanted heading for India?</td>\n",
              "    </tr>\n",
              "    <tr>\n",
              "      <th>3</th>\n",
              "      <td>20010102</td>\n",
              "      <td>unknown</td>\n",
              "      <td>For bigwigs; it is destination Goa</td>\n",
              "    </tr>\n",
              "    <tr>\n",
              "      <th>4</th>\n",
              "      <td>20010102</td>\n",
              "      <td>unknown</td>\n",
              "      <td>Extra buses to clear tourist traffic</td>\n",
              "    </tr>\n",
              "  </tbody>\n",
              "</table>\n",
              "</div>\n",
              "      <button class=\"colab-df-convert\" onclick=\"convertToInteractive('df-8c75e6d3-8115-46d7-a215-018ca1c5d40e')\"\n",
              "              title=\"Convert this dataframe to an interactive table.\"\n",
              "              style=\"display:none;\">\n",
              "        \n",
              "  <svg xmlns=\"http://www.w3.org/2000/svg\" height=\"24px\"viewBox=\"0 0 24 24\"\n",
              "       width=\"24px\">\n",
              "    <path d=\"M0 0h24v24H0V0z\" fill=\"none\"/>\n",
              "    <path d=\"M18.56 5.44l.94 2.06.94-2.06 2.06-.94-2.06-.94-.94-2.06-.94 2.06-2.06.94zm-11 1L8.5 8.5l.94-2.06 2.06-.94-2.06-.94L8.5 2.5l-.94 2.06-2.06.94zm10 10l.94 2.06.94-2.06 2.06-.94-2.06-.94-.94-2.06-.94 2.06-2.06.94z\"/><path d=\"M17.41 7.96l-1.37-1.37c-.4-.4-.92-.59-1.43-.59-.52 0-1.04.2-1.43.59L10.3 9.45l-7.72 7.72c-.78.78-.78 2.05 0 2.83L4 21.41c.39.39.9.59 1.41.59.51 0 1.02-.2 1.41-.59l7.78-7.78 2.81-2.81c.8-.78.8-2.07 0-2.86zM5.41 20L4 18.59l7.72-7.72 1.47 1.35L5.41 20z\"/>\n",
              "  </svg>\n",
              "      </button>\n",
              "      \n",
              "  <style>\n",
              "    .colab-df-container {\n",
              "      display:flex;\n",
              "      flex-wrap:wrap;\n",
              "      gap: 12px;\n",
              "    }\n",
              "\n",
              "    .colab-df-convert {\n",
              "      background-color: #E8F0FE;\n",
              "      border: none;\n",
              "      border-radius: 50%;\n",
              "      cursor: pointer;\n",
              "      display: none;\n",
              "      fill: #1967D2;\n",
              "      height: 32px;\n",
              "      padding: 0 0 0 0;\n",
              "      width: 32px;\n",
              "    }\n",
              "\n",
              "    .colab-df-convert:hover {\n",
              "      background-color: #E2EBFA;\n",
              "      box-shadow: 0px 1px 2px rgba(60, 64, 67, 0.3), 0px 1px 3px 1px rgba(60, 64, 67, 0.15);\n",
              "      fill: #174EA6;\n",
              "    }\n",
              "\n",
              "    [theme=dark] .colab-df-convert {\n",
              "      background-color: #3B4455;\n",
              "      fill: #D2E3FC;\n",
              "    }\n",
              "\n",
              "    [theme=dark] .colab-df-convert:hover {\n",
              "      background-color: #434B5C;\n",
              "      box-shadow: 0px 1px 3px 1px rgba(0, 0, 0, 0.15);\n",
              "      filter: drop-shadow(0px 1px 2px rgba(0, 0, 0, 0.3));\n",
              "      fill: #FFFFFF;\n",
              "    }\n",
              "  </style>\n",
              "\n",
              "      <script>\n",
              "        const buttonEl =\n",
              "          document.querySelector('#df-8c75e6d3-8115-46d7-a215-018ca1c5d40e button.colab-df-convert');\n",
              "        buttonEl.style.display =\n",
              "          google.colab.kernel.accessAllowed ? 'block' : 'none';\n",
              "\n",
              "        async function convertToInteractive(key) {\n",
              "          const element = document.querySelector('#df-8c75e6d3-8115-46d7-a215-018ca1c5d40e');\n",
              "          const dataTable =\n",
              "            await google.colab.kernel.invokeFunction('convertToInteractive',\n",
              "                                                     [key], {});\n",
              "          if (!dataTable) return;\n",
              "\n",
              "          const docLinkHtml = 'Like what you see? Visit the ' +\n",
              "            '<a target=\"_blank\" href=https://colab.research.google.com/notebooks/data_table.ipynb>data table notebook</a>'\n",
              "            + ' to learn more about interactive tables.';\n",
              "          element.innerHTML = '';\n",
              "          dataTable['output_type'] = 'display_data';\n",
              "          await google.colab.output.renderOutput(dataTable, element);\n",
              "          const docLink = document.createElement('div');\n",
              "          docLink.innerHTML = docLinkHtml;\n",
              "          element.appendChild(docLink);\n",
              "        }\n",
              "      </script>\n",
              "    </div>\n",
              "  </div>\n",
              "  "
            ]
          },
          "metadata": {},
          "execution_count": 34
        }
      ],
      "source": [
        "news_data.rename(columns={'publish_date': 'Date'},inplace = True)\n",
        "news_data.head()"
      ]
    },
    {
      "cell_type": "code",
      "execution_count": null,
      "metadata": {
        "id": "HmCgSSUYu1y7"
      },
      "outputs": [],
      "source": [
        "news_data['Date'] = pd.to_datetime(news_data['Date'],format='%Y%m%d')"
      ]
    },
    {
      "cell_type": "code",
      "execution_count": null,
      "metadata": {
        "colab": {
          "base_uri": "https://localhost:8080/",
          "height": 206
        },
        "id": "dmqxqSZVtpU6",
        "outputId": "8c5c25b5-e97e-4998-aef0-406da2c2cfdc"
      },
      "outputs": [
        {
          "output_type": "execute_result",
          "data": {
            "text/plain": [
              "        Date headline_category  \\\n",
              "0 2001-01-02           unknown   \n",
              "1 2001-01-02           unknown   \n",
              "2 2001-01-02           unknown   \n",
              "3 2001-01-02           unknown   \n",
              "4 2001-01-02           unknown   \n",
              "\n",
              "                                       headline_text  \n",
              "0  Status quo will not be disturbed at Ayodhya; s...  \n",
              "1                Fissures in Hurriyat over Pak visit  \n",
              "2              America's unwanted heading for India?  \n",
              "3                 For bigwigs; it is destination Goa  \n",
              "4               Extra buses to clear tourist traffic  "
            ],
            "text/html": [
              "\n",
              "  <div id=\"df-9bd028ef-3b60-4e98-aa27-41c9b8d6fe35\">\n",
              "    <div class=\"colab-df-container\">\n",
              "      <div>\n",
              "<style scoped>\n",
              "    .dataframe tbody tr th:only-of-type {\n",
              "        vertical-align: middle;\n",
              "    }\n",
              "\n",
              "    .dataframe tbody tr th {\n",
              "        vertical-align: top;\n",
              "    }\n",
              "\n",
              "    .dataframe thead th {\n",
              "        text-align: right;\n",
              "    }\n",
              "</style>\n",
              "<table border=\"1\" class=\"dataframe\">\n",
              "  <thead>\n",
              "    <tr style=\"text-align: right;\">\n",
              "      <th></th>\n",
              "      <th>Date</th>\n",
              "      <th>headline_category</th>\n",
              "      <th>headline_text</th>\n",
              "    </tr>\n",
              "  </thead>\n",
              "  <tbody>\n",
              "    <tr>\n",
              "      <th>0</th>\n",
              "      <td>2001-01-02</td>\n",
              "      <td>unknown</td>\n",
              "      <td>Status quo will not be disturbed at Ayodhya; s...</td>\n",
              "    </tr>\n",
              "    <tr>\n",
              "      <th>1</th>\n",
              "      <td>2001-01-02</td>\n",
              "      <td>unknown</td>\n",
              "      <td>Fissures in Hurriyat over Pak visit</td>\n",
              "    </tr>\n",
              "    <tr>\n",
              "      <th>2</th>\n",
              "      <td>2001-01-02</td>\n",
              "      <td>unknown</td>\n",
              "      <td>America's unwanted heading for India?</td>\n",
              "    </tr>\n",
              "    <tr>\n",
              "      <th>3</th>\n",
              "      <td>2001-01-02</td>\n",
              "      <td>unknown</td>\n",
              "      <td>For bigwigs; it is destination Goa</td>\n",
              "    </tr>\n",
              "    <tr>\n",
              "      <th>4</th>\n",
              "      <td>2001-01-02</td>\n",
              "      <td>unknown</td>\n",
              "      <td>Extra buses to clear tourist traffic</td>\n",
              "    </tr>\n",
              "  </tbody>\n",
              "</table>\n",
              "</div>\n",
              "      <button class=\"colab-df-convert\" onclick=\"convertToInteractive('df-9bd028ef-3b60-4e98-aa27-41c9b8d6fe35')\"\n",
              "              title=\"Convert this dataframe to an interactive table.\"\n",
              "              style=\"display:none;\">\n",
              "        \n",
              "  <svg xmlns=\"http://www.w3.org/2000/svg\" height=\"24px\"viewBox=\"0 0 24 24\"\n",
              "       width=\"24px\">\n",
              "    <path d=\"M0 0h24v24H0V0z\" fill=\"none\"/>\n",
              "    <path d=\"M18.56 5.44l.94 2.06.94-2.06 2.06-.94-2.06-.94-.94-2.06-.94 2.06-2.06.94zm-11 1L8.5 8.5l.94-2.06 2.06-.94-2.06-.94L8.5 2.5l-.94 2.06-2.06.94zm10 10l.94 2.06.94-2.06 2.06-.94-2.06-.94-.94-2.06-.94 2.06-2.06.94z\"/><path d=\"M17.41 7.96l-1.37-1.37c-.4-.4-.92-.59-1.43-.59-.52 0-1.04.2-1.43.59L10.3 9.45l-7.72 7.72c-.78.78-.78 2.05 0 2.83L4 21.41c.39.39.9.59 1.41.59.51 0 1.02-.2 1.41-.59l7.78-7.78 2.81-2.81c.8-.78.8-2.07 0-2.86zM5.41 20L4 18.59l7.72-7.72 1.47 1.35L5.41 20z\"/>\n",
              "  </svg>\n",
              "      </button>\n",
              "      \n",
              "  <style>\n",
              "    .colab-df-container {\n",
              "      display:flex;\n",
              "      flex-wrap:wrap;\n",
              "      gap: 12px;\n",
              "    }\n",
              "\n",
              "    .colab-df-convert {\n",
              "      background-color: #E8F0FE;\n",
              "      border: none;\n",
              "      border-radius: 50%;\n",
              "      cursor: pointer;\n",
              "      display: none;\n",
              "      fill: #1967D2;\n",
              "      height: 32px;\n",
              "      padding: 0 0 0 0;\n",
              "      width: 32px;\n",
              "    }\n",
              "\n",
              "    .colab-df-convert:hover {\n",
              "      background-color: #E2EBFA;\n",
              "      box-shadow: 0px 1px 2px rgba(60, 64, 67, 0.3), 0px 1px 3px 1px rgba(60, 64, 67, 0.15);\n",
              "      fill: #174EA6;\n",
              "    }\n",
              "\n",
              "    [theme=dark] .colab-df-convert {\n",
              "      background-color: #3B4455;\n",
              "      fill: #D2E3FC;\n",
              "    }\n",
              "\n",
              "    [theme=dark] .colab-df-convert:hover {\n",
              "      background-color: #434B5C;\n",
              "      box-shadow: 0px 1px 3px 1px rgba(0, 0, 0, 0.15);\n",
              "      filter: drop-shadow(0px 1px 2px rgba(0, 0, 0, 0.3));\n",
              "      fill: #FFFFFF;\n",
              "    }\n",
              "  </style>\n",
              "\n",
              "      <script>\n",
              "        const buttonEl =\n",
              "          document.querySelector('#df-9bd028ef-3b60-4e98-aa27-41c9b8d6fe35 button.colab-df-convert');\n",
              "        buttonEl.style.display =\n",
              "          google.colab.kernel.accessAllowed ? 'block' : 'none';\n",
              "\n",
              "        async function convertToInteractive(key) {\n",
              "          const element = document.querySelector('#df-9bd028ef-3b60-4e98-aa27-41c9b8d6fe35');\n",
              "          const dataTable =\n",
              "            await google.colab.kernel.invokeFunction('convertToInteractive',\n",
              "                                                     [key], {});\n",
              "          if (!dataTable) return;\n",
              "\n",
              "          const docLinkHtml = 'Like what you see? Visit the ' +\n",
              "            '<a target=\"_blank\" href=https://colab.research.google.com/notebooks/data_table.ipynb>data table notebook</a>'\n",
              "            + ' to learn more about interactive tables.';\n",
              "          element.innerHTML = '';\n",
              "          dataTable['output_type'] = 'display_data';\n",
              "          await google.colab.output.renderOutput(dataTable, element);\n",
              "          const docLink = document.createElement('div');\n",
              "          docLink.innerHTML = docLinkHtml;\n",
              "          element.appendChild(docLink);\n",
              "        }\n",
              "      </script>\n",
              "    </div>\n",
              "  </div>\n",
              "  "
            ]
          },
          "metadata": {},
          "execution_count": 36
        }
      ],
      "source": [
        "news_data.head()"
      ]
    },
    {
      "cell_type": "code",
      "execution_count": null,
      "metadata": {
        "id": "XlD-wC1VZSqr"
      },
      "outputs": [],
      "source": [
        "hybrid_data = stock_data.merge(news_data, \n",
        "                   on='Date', \n",
        "                   how ='inner'\n",
        "                   )"
      ]
    },
    {
      "cell_type": "code",
      "execution_count": null,
      "metadata": {
        "colab": {
          "base_uri": "https://localhost:8080/",
          "height": 363
        },
        "id": "rKzMGlRmZSs9",
        "outputId": "b23b79b7-cf4f-44f9-fc6f-147d6d746e00"
      },
      "outputs": [
        {
          "output_type": "execute_result",
          "data": {
            "text/plain": [
              "        Date       Open       High        Low      Close  Adj Close  \\\n",
              "0 2002-07-01  40.111111  40.724445  40.111111  40.435555  30.959587   \n",
              "1 2002-07-01  40.111111  40.724445  40.111111  40.435555  30.959587   \n",
              "2 2002-07-01  40.111111  40.724445  40.111111  40.435555  30.959587   \n",
              "3 2002-07-01  40.111111  40.724445  40.111111  40.435555  30.959587   \n",
              "4 2002-07-01  40.111111  40.724445  40.111111  40.435555  30.959587   \n",
              "5 2002-07-01  40.111111  40.724445  40.111111  40.435555  30.959587   \n",
              "6 2002-07-01  40.111111  40.724445  40.111111  40.435555  30.959587   \n",
              "7 2002-07-01  40.111111  40.724445  40.111111  40.435555  30.959587   \n",
              "8 2002-07-01  40.111111  40.724445  40.111111  40.435555  30.959587   \n",
              "9 2002-07-01  40.111111  40.724445  40.111111  40.435555  30.959587   \n",
              "\n",
              "      Volume              headline_category  \\\n",
              "0  3709080.0                        unknown   \n",
              "1  3709080.0                        unknown   \n",
              "2  3709080.0                        unknown   \n",
              "3  3709080.0                        unknown   \n",
              "4  3709080.0                        unknown   \n",
              "5  3709080.0                 city.hyderabad   \n",
              "6  3709080.0  entertainment.hindi.bollywood   \n",
              "7  3709080.0                      edit-page   \n",
              "8  3709080.0                      edit-page   \n",
              "9  3709080.0                      edit-page   \n",
              "\n",
              "                              headline_text  \n",
              "0              Traffic management necessary  \n",
              "1       Fee hike in English medium schools.  \n",
              "2                           BSC recruitment  \n",
              "3  Union Club rout Deodhar XI by an innings  \n",
              "4      Sanghvi; Daresh make steady progress  \n",
              "5        Naxalites blast CPI leader's house  \n",
              "6            Gracy signs a Prakash Jha film  \n",
              "7                              Sacred Space  \n",
              "8         Incredible Journey To Immortality  \n",
              "9                            Dream Sequence  "
            ],
            "text/html": [
              "\n",
              "  <div id=\"df-6ee0e70c-164e-4cf5-8a2c-6aa0ea6f171c\">\n",
              "    <div class=\"colab-df-container\">\n",
              "      <div>\n",
              "<style scoped>\n",
              "    .dataframe tbody tr th:only-of-type {\n",
              "        vertical-align: middle;\n",
              "    }\n",
              "\n",
              "    .dataframe tbody tr th {\n",
              "        vertical-align: top;\n",
              "    }\n",
              "\n",
              "    .dataframe thead th {\n",
              "        text-align: right;\n",
              "    }\n",
              "</style>\n",
              "<table border=\"1\" class=\"dataframe\">\n",
              "  <thead>\n",
              "    <tr style=\"text-align: right;\">\n",
              "      <th></th>\n",
              "      <th>Date</th>\n",
              "      <th>Open</th>\n",
              "      <th>High</th>\n",
              "      <th>Low</th>\n",
              "      <th>Close</th>\n",
              "      <th>Adj Close</th>\n",
              "      <th>Volume</th>\n",
              "      <th>headline_category</th>\n",
              "      <th>headline_text</th>\n",
              "    </tr>\n",
              "  </thead>\n",
              "  <tbody>\n",
              "    <tr>\n",
              "      <th>0</th>\n",
              "      <td>2002-07-01</td>\n",
              "      <td>40.111111</td>\n",
              "      <td>40.724445</td>\n",
              "      <td>40.111111</td>\n",
              "      <td>40.435555</td>\n",
              "      <td>30.959587</td>\n",
              "      <td>3709080.0</td>\n",
              "      <td>unknown</td>\n",
              "      <td>Traffic management necessary</td>\n",
              "    </tr>\n",
              "    <tr>\n",
              "      <th>1</th>\n",
              "      <td>2002-07-01</td>\n",
              "      <td>40.111111</td>\n",
              "      <td>40.724445</td>\n",
              "      <td>40.111111</td>\n",
              "      <td>40.435555</td>\n",
              "      <td>30.959587</td>\n",
              "      <td>3709080.0</td>\n",
              "      <td>unknown</td>\n",
              "      <td>Fee hike in English medium schools.</td>\n",
              "    </tr>\n",
              "    <tr>\n",
              "      <th>2</th>\n",
              "      <td>2002-07-01</td>\n",
              "      <td>40.111111</td>\n",
              "      <td>40.724445</td>\n",
              "      <td>40.111111</td>\n",
              "      <td>40.435555</td>\n",
              "      <td>30.959587</td>\n",
              "      <td>3709080.0</td>\n",
              "      <td>unknown</td>\n",
              "      <td>BSC recruitment</td>\n",
              "    </tr>\n",
              "    <tr>\n",
              "      <th>3</th>\n",
              "      <td>2002-07-01</td>\n",
              "      <td>40.111111</td>\n",
              "      <td>40.724445</td>\n",
              "      <td>40.111111</td>\n",
              "      <td>40.435555</td>\n",
              "      <td>30.959587</td>\n",
              "      <td>3709080.0</td>\n",
              "      <td>unknown</td>\n",
              "      <td>Union Club rout Deodhar XI by an innings</td>\n",
              "    </tr>\n",
              "    <tr>\n",
              "      <th>4</th>\n",
              "      <td>2002-07-01</td>\n",
              "      <td>40.111111</td>\n",
              "      <td>40.724445</td>\n",
              "      <td>40.111111</td>\n",
              "      <td>40.435555</td>\n",
              "      <td>30.959587</td>\n",
              "      <td>3709080.0</td>\n",
              "      <td>unknown</td>\n",
              "      <td>Sanghvi; Daresh make steady progress</td>\n",
              "    </tr>\n",
              "    <tr>\n",
              "      <th>5</th>\n",
              "      <td>2002-07-01</td>\n",
              "      <td>40.111111</td>\n",
              "      <td>40.724445</td>\n",
              "      <td>40.111111</td>\n",
              "      <td>40.435555</td>\n",
              "      <td>30.959587</td>\n",
              "      <td>3709080.0</td>\n",
              "      <td>city.hyderabad</td>\n",
              "      <td>Naxalites blast CPI leader's house</td>\n",
              "    </tr>\n",
              "    <tr>\n",
              "      <th>6</th>\n",
              "      <td>2002-07-01</td>\n",
              "      <td>40.111111</td>\n",
              "      <td>40.724445</td>\n",
              "      <td>40.111111</td>\n",
              "      <td>40.435555</td>\n",
              "      <td>30.959587</td>\n",
              "      <td>3709080.0</td>\n",
              "      <td>entertainment.hindi.bollywood</td>\n",
              "      <td>Gracy signs a Prakash Jha film</td>\n",
              "    </tr>\n",
              "    <tr>\n",
              "      <th>7</th>\n",
              "      <td>2002-07-01</td>\n",
              "      <td>40.111111</td>\n",
              "      <td>40.724445</td>\n",
              "      <td>40.111111</td>\n",
              "      <td>40.435555</td>\n",
              "      <td>30.959587</td>\n",
              "      <td>3709080.0</td>\n",
              "      <td>edit-page</td>\n",
              "      <td>Sacred Space</td>\n",
              "    </tr>\n",
              "    <tr>\n",
              "      <th>8</th>\n",
              "      <td>2002-07-01</td>\n",
              "      <td>40.111111</td>\n",
              "      <td>40.724445</td>\n",
              "      <td>40.111111</td>\n",
              "      <td>40.435555</td>\n",
              "      <td>30.959587</td>\n",
              "      <td>3709080.0</td>\n",
              "      <td>edit-page</td>\n",
              "      <td>Incredible Journey To Immortality</td>\n",
              "    </tr>\n",
              "    <tr>\n",
              "      <th>9</th>\n",
              "      <td>2002-07-01</td>\n",
              "      <td>40.111111</td>\n",
              "      <td>40.724445</td>\n",
              "      <td>40.111111</td>\n",
              "      <td>40.435555</td>\n",
              "      <td>30.959587</td>\n",
              "      <td>3709080.0</td>\n",
              "      <td>edit-page</td>\n",
              "      <td>Dream Sequence</td>\n",
              "    </tr>\n",
              "  </tbody>\n",
              "</table>\n",
              "</div>\n",
              "      <button class=\"colab-df-convert\" onclick=\"convertToInteractive('df-6ee0e70c-164e-4cf5-8a2c-6aa0ea6f171c')\"\n",
              "              title=\"Convert this dataframe to an interactive table.\"\n",
              "              style=\"display:none;\">\n",
              "        \n",
              "  <svg xmlns=\"http://www.w3.org/2000/svg\" height=\"24px\"viewBox=\"0 0 24 24\"\n",
              "       width=\"24px\">\n",
              "    <path d=\"M0 0h24v24H0V0z\" fill=\"none\"/>\n",
              "    <path d=\"M18.56 5.44l.94 2.06.94-2.06 2.06-.94-2.06-.94-.94-2.06-.94 2.06-2.06.94zm-11 1L8.5 8.5l.94-2.06 2.06-.94-2.06-.94L8.5 2.5l-.94 2.06-2.06.94zm10 10l.94 2.06.94-2.06 2.06-.94-2.06-.94-.94-2.06-.94 2.06-2.06.94z\"/><path d=\"M17.41 7.96l-1.37-1.37c-.4-.4-.92-.59-1.43-.59-.52 0-1.04.2-1.43.59L10.3 9.45l-7.72 7.72c-.78.78-.78 2.05 0 2.83L4 21.41c.39.39.9.59 1.41.59.51 0 1.02-.2 1.41-.59l7.78-7.78 2.81-2.81c.8-.78.8-2.07 0-2.86zM5.41 20L4 18.59l7.72-7.72 1.47 1.35L5.41 20z\"/>\n",
              "  </svg>\n",
              "      </button>\n",
              "      \n",
              "  <style>\n",
              "    .colab-df-container {\n",
              "      display:flex;\n",
              "      flex-wrap:wrap;\n",
              "      gap: 12px;\n",
              "    }\n",
              "\n",
              "    .colab-df-convert {\n",
              "      background-color: #E8F0FE;\n",
              "      border: none;\n",
              "      border-radius: 50%;\n",
              "      cursor: pointer;\n",
              "      display: none;\n",
              "      fill: #1967D2;\n",
              "      height: 32px;\n",
              "      padding: 0 0 0 0;\n",
              "      width: 32px;\n",
              "    }\n",
              "\n",
              "    .colab-df-convert:hover {\n",
              "      background-color: #E2EBFA;\n",
              "      box-shadow: 0px 1px 2px rgba(60, 64, 67, 0.3), 0px 1px 3px 1px rgba(60, 64, 67, 0.15);\n",
              "      fill: #174EA6;\n",
              "    }\n",
              "\n",
              "    [theme=dark] .colab-df-convert {\n",
              "      background-color: #3B4455;\n",
              "      fill: #D2E3FC;\n",
              "    }\n",
              "\n",
              "    [theme=dark] .colab-df-convert:hover {\n",
              "      background-color: #434B5C;\n",
              "      box-shadow: 0px 1px 3px 1px rgba(0, 0, 0, 0.15);\n",
              "      filter: drop-shadow(0px 1px 2px rgba(0, 0, 0, 0.3));\n",
              "      fill: #FFFFFF;\n",
              "    }\n",
              "  </style>\n",
              "\n",
              "      <script>\n",
              "        const buttonEl =\n",
              "          document.querySelector('#df-6ee0e70c-164e-4cf5-8a2c-6aa0ea6f171c button.colab-df-convert');\n",
              "        buttonEl.style.display =\n",
              "          google.colab.kernel.accessAllowed ? 'block' : 'none';\n",
              "\n",
              "        async function convertToInteractive(key) {\n",
              "          const element = document.querySelector('#df-6ee0e70c-164e-4cf5-8a2c-6aa0ea6f171c');\n",
              "          const dataTable =\n",
              "            await google.colab.kernel.invokeFunction('convertToInteractive',\n",
              "                                                     [key], {});\n",
              "          if (!dataTable) return;\n",
              "\n",
              "          const docLinkHtml = 'Like what you see? Visit the ' +\n",
              "            '<a target=\"_blank\" href=https://colab.research.google.com/notebooks/data_table.ipynb>data table notebook</a>'\n",
              "            + ' to learn more about interactive tables.';\n",
              "          element.innerHTML = '';\n",
              "          dataTable['output_type'] = 'display_data';\n",
              "          await google.colab.output.renderOutput(dataTable, element);\n",
              "          const docLink = document.createElement('div');\n",
              "          docLink.innerHTML = docLinkHtml;\n",
              "          element.appendChild(docLink);\n",
              "        }\n",
              "      </script>\n",
              "    </div>\n",
              "  </div>\n",
              "  "
            ]
          },
          "metadata": {},
          "execution_count": 38
        }
      ],
      "source": [
        "hybrid_data.head(10)"
      ]
    },
    {
      "cell_type": "code",
      "execution_count": null,
      "metadata": {
        "id": "Yo-lyqrMZSvw"
      },
      "outputs": [],
      "source": [
        "def analysis_polarity(headline):\n",
        "    result = TextBlob(headline)\n",
        "    \n",
        "    if result.sentiment.polarity < 0:\n",
        "        return 'negative'\n",
        "    elif result.sentiment.polarity == 0:\n",
        "        return 'neutral'\n",
        "    else:\n",
        "        return 'positive'"
      ]
    },
    {
      "cell_type": "code",
      "execution_count": null,
      "metadata": {
        "colab": {
          "base_uri": "https://localhost:8080/",
          "height": 206
        },
        "id": "tb0Itvc4ZXZq",
        "outputId": "85f548c4-48af-4bd8-929f-fab121177d40"
      },
      "outputs": [
        {
          "output_type": "execute_result",
          "data": {
            "text/plain": [
              "        Date       Open       High        Low      Close  Adj Close  \\\n",
              "0 2002-07-01  40.111111  40.724445  40.111111  40.435555  30.959587   \n",
              "1 2002-07-01  40.111111  40.724445  40.111111  40.435555  30.959587   \n",
              "2 2002-07-01  40.111111  40.724445  40.111111  40.435555  30.959587   \n",
              "3 2002-07-01  40.111111  40.724445  40.111111  40.435555  30.959587   \n",
              "4 2002-07-01  40.111111  40.724445  40.111111  40.435555  30.959587   \n",
              "\n",
              "      Volume headline_category                             headline_text  \\\n",
              "0  3709080.0           unknown              Traffic management necessary   \n",
              "1  3709080.0           unknown       Fee hike in English medium schools.   \n",
              "2  3709080.0           unknown                           BSC recruitment   \n",
              "3  3709080.0           unknown  Union Club rout Deodhar XI by an innings   \n",
              "4  3709080.0           unknown      Sanghvi; Daresh make steady progress   \n",
              "\n",
              "  sentiment  \n",
              "0   neutral  \n",
              "1   neutral  \n",
              "2   neutral  \n",
              "3   neutral  \n",
              "4  positive  "
            ],
            "text/html": [
              "\n",
              "  <div id=\"df-bee9f742-23ef-4c82-9fd6-ce5799d92b16\">\n",
              "    <div class=\"colab-df-container\">\n",
              "      <div>\n",
              "<style scoped>\n",
              "    .dataframe tbody tr th:only-of-type {\n",
              "        vertical-align: middle;\n",
              "    }\n",
              "\n",
              "    .dataframe tbody tr th {\n",
              "        vertical-align: top;\n",
              "    }\n",
              "\n",
              "    .dataframe thead th {\n",
              "        text-align: right;\n",
              "    }\n",
              "</style>\n",
              "<table border=\"1\" class=\"dataframe\">\n",
              "  <thead>\n",
              "    <tr style=\"text-align: right;\">\n",
              "      <th></th>\n",
              "      <th>Date</th>\n",
              "      <th>Open</th>\n",
              "      <th>High</th>\n",
              "      <th>Low</th>\n",
              "      <th>Close</th>\n",
              "      <th>Adj Close</th>\n",
              "      <th>Volume</th>\n",
              "      <th>headline_category</th>\n",
              "      <th>headline_text</th>\n",
              "      <th>sentiment</th>\n",
              "    </tr>\n",
              "  </thead>\n",
              "  <tbody>\n",
              "    <tr>\n",
              "      <th>0</th>\n",
              "      <td>2002-07-01</td>\n",
              "      <td>40.111111</td>\n",
              "      <td>40.724445</td>\n",
              "      <td>40.111111</td>\n",
              "      <td>40.435555</td>\n",
              "      <td>30.959587</td>\n",
              "      <td>3709080.0</td>\n",
              "      <td>unknown</td>\n",
              "      <td>Traffic management necessary</td>\n",
              "      <td>neutral</td>\n",
              "    </tr>\n",
              "    <tr>\n",
              "      <th>1</th>\n",
              "      <td>2002-07-01</td>\n",
              "      <td>40.111111</td>\n",
              "      <td>40.724445</td>\n",
              "      <td>40.111111</td>\n",
              "      <td>40.435555</td>\n",
              "      <td>30.959587</td>\n",
              "      <td>3709080.0</td>\n",
              "      <td>unknown</td>\n",
              "      <td>Fee hike in English medium schools.</td>\n",
              "      <td>neutral</td>\n",
              "    </tr>\n",
              "    <tr>\n",
              "      <th>2</th>\n",
              "      <td>2002-07-01</td>\n",
              "      <td>40.111111</td>\n",
              "      <td>40.724445</td>\n",
              "      <td>40.111111</td>\n",
              "      <td>40.435555</td>\n",
              "      <td>30.959587</td>\n",
              "      <td>3709080.0</td>\n",
              "      <td>unknown</td>\n",
              "      <td>BSC recruitment</td>\n",
              "      <td>neutral</td>\n",
              "    </tr>\n",
              "    <tr>\n",
              "      <th>3</th>\n",
              "      <td>2002-07-01</td>\n",
              "      <td>40.111111</td>\n",
              "      <td>40.724445</td>\n",
              "      <td>40.111111</td>\n",
              "      <td>40.435555</td>\n",
              "      <td>30.959587</td>\n",
              "      <td>3709080.0</td>\n",
              "      <td>unknown</td>\n",
              "      <td>Union Club rout Deodhar XI by an innings</td>\n",
              "      <td>neutral</td>\n",
              "    </tr>\n",
              "    <tr>\n",
              "      <th>4</th>\n",
              "      <td>2002-07-01</td>\n",
              "      <td>40.111111</td>\n",
              "      <td>40.724445</td>\n",
              "      <td>40.111111</td>\n",
              "      <td>40.435555</td>\n",
              "      <td>30.959587</td>\n",
              "      <td>3709080.0</td>\n",
              "      <td>unknown</td>\n",
              "      <td>Sanghvi; Daresh make steady progress</td>\n",
              "      <td>positive</td>\n",
              "    </tr>\n",
              "  </tbody>\n",
              "</table>\n",
              "</div>\n",
              "      <button class=\"colab-df-convert\" onclick=\"convertToInteractive('df-bee9f742-23ef-4c82-9fd6-ce5799d92b16')\"\n",
              "              title=\"Convert this dataframe to an interactive table.\"\n",
              "              style=\"display:none;\">\n",
              "        \n",
              "  <svg xmlns=\"http://www.w3.org/2000/svg\" height=\"24px\"viewBox=\"0 0 24 24\"\n",
              "       width=\"24px\">\n",
              "    <path d=\"M0 0h24v24H0V0z\" fill=\"none\"/>\n",
              "    <path d=\"M18.56 5.44l.94 2.06.94-2.06 2.06-.94-2.06-.94-.94-2.06-.94 2.06-2.06.94zm-11 1L8.5 8.5l.94-2.06 2.06-.94-2.06-.94L8.5 2.5l-.94 2.06-2.06.94zm10 10l.94 2.06.94-2.06 2.06-.94-2.06-.94-.94-2.06-.94 2.06-2.06.94z\"/><path d=\"M17.41 7.96l-1.37-1.37c-.4-.4-.92-.59-1.43-.59-.52 0-1.04.2-1.43.59L10.3 9.45l-7.72 7.72c-.78.78-.78 2.05 0 2.83L4 21.41c.39.39.9.59 1.41.59.51 0 1.02-.2 1.41-.59l7.78-7.78 2.81-2.81c.8-.78.8-2.07 0-2.86zM5.41 20L4 18.59l7.72-7.72 1.47 1.35L5.41 20z\"/>\n",
              "  </svg>\n",
              "      </button>\n",
              "      \n",
              "  <style>\n",
              "    .colab-df-container {\n",
              "      display:flex;\n",
              "      flex-wrap:wrap;\n",
              "      gap: 12px;\n",
              "    }\n",
              "\n",
              "    .colab-df-convert {\n",
              "      background-color: #E8F0FE;\n",
              "      border: none;\n",
              "      border-radius: 50%;\n",
              "      cursor: pointer;\n",
              "      display: none;\n",
              "      fill: #1967D2;\n",
              "      height: 32px;\n",
              "      padding: 0 0 0 0;\n",
              "      width: 32px;\n",
              "    }\n",
              "\n",
              "    .colab-df-convert:hover {\n",
              "      background-color: #E2EBFA;\n",
              "      box-shadow: 0px 1px 2px rgba(60, 64, 67, 0.3), 0px 1px 3px 1px rgba(60, 64, 67, 0.15);\n",
              "      fill: #174EA6;\n",
              "    }\n",
              "\n",
              "    [theme=dark] .colab-df-convert {\n",
              "      background-color: #3B4455;\n",
              "      fill: #D2E3FC;\n",
              "    }\n",
              "\n",
              "    [theme=dark] .colab-df-convert:hover {\n",
              "      background-color: #434B5C;\n",
              "      box-shadow: 0px 1px 3px 1px rgba(0, 0, 0, 0.15);\n",
              "      filter: drop-shadow(0px 1px 2px rgba(0, 0, 0, 0.3));\n",
              "      fill: #FFFFFF;\n",
              "    }\n",
              "  </style>\n",
              "\n",
              "      <script>\n",
              "        const buttonEl =\n",
              "          document.querySelector('#df-bee9f742-23ef-4c82-9fd6-ce5799d92b16 button.colab-df-convert');\n",
              "        buttonEl.style.display =\n",
              "          google.colab.kernel.accessAllowed ? 'block' : 'none';\n",
              "\n",
              "        async function convertToInteractive(key) {\n",
              "          const element = document.querySelector('#df-bee9f742-23ef-4c82-9fd6-ce5799d92b16');\n",
              "          const dataTable =\n",
              "            await google.colab.kernel.invokeFunction('convertToInteractive',\n",
              "                                                     [key], {});\n",
              "          if (!dataTable) return;\n",
              "\n",
              "          const docLinkHtml = 'Like what you see? Visit the ' +\n",
              "            '<a target=\"_blank\" href=https://colab.research.google.com/notebooks/data_table.ipynb>data table notebook</a>'\n",
              "            + ' to learn more about interactive tables.';\n",
              "          element.innerHTML = '';\n",
              "          dataTable['output_type'] = 'display_data';\n",
              "          await google.colab.output.renderOutput(dataTable, element);\n",
              "          const docLink = document.createElement('div');\n",
              "          docLink.innerHTML = docLinkHtml;\n",
              "          element.appendChild(docLink);\n",
              "        }\n",
              "      </script>\n",
              "    </div>\n",
              "  </div>\n",
              "  "
            ]
          },
          "metadata": {},
          "execution_count": 40
        }
      ],
      "source": [
        "hybrid_data['sentiment'] = np.array([analysis_polarity(headline) for headline in hybrid_data['headline_text']])\n",
        "hybrid_data.head()"
      ]
    },
    {
      "cell_type": "code",
      "execution_count": null,
      "metadata": {
        "id": "nAPhOTW0ZXb6"
      },
      "outputs": [],
      "source": [
        "senti_data = pd.get_dummies(hybrid_data['sentiment'],drop_first=True)\n"
      ]
    },
    {
      "cell_type": "code",
      "execution_count": null,
      "metadata": {
        "id": "rg2hRhISZXei"
      },
      "outputs": [],
      "source": [
        "hybrid_data = pd.concat([hybrid_data,senti_data],axis=1)\n"
      ]
    },
    {
      "cell_type": "code",
      "execution_count": null,
      "metadata": {
        "colab": {
          "base_uri": "https://localhost:8080/",
          "height": 206
        },
        "id": "pqQK5UPnZXg_",
        "outputId": "4c370544-0380-49b3-a85d-56a77c6a0700"
      },
      "outputs": [
        {
          "output_type": "execute_result",
          "data": {
            "text/plain": [
              "        Date       Open       High        Low      Close  Adj Close  \\\n",
              "0 2002-07-01  40.111111  40.724445  40.111111  40.435555  30.959587   \n",
              "1 2002-07-01  40.111111  40.724445  40.111111  40.435555  30.959587   \n",
              "2 2002-07-01  40.111111  40.724445  40.111111  40.435555  30.959587   \n",
              "3 2002-07-01  40.111111  40.724445  40.111111  40.435555  30.959587   \n",
              "4 2002-07-01  40.111111  40.724445  40.111111  40.435555  30.959587   \n",
              "\n",
              "      Volume headline_category                             headline_text  \\\n",
              "0  3709080.0           unknown              Traffic management necessary   \n",
              "1  3709080.0           unknown       Fee hike in English medium schools.   \n",
              "2  3709080.0           unknown                           BSC recruitment   \n",
              "3  3709080.0           unknown  Union Club rout Deodhar XI by an innings   \n",
              "4  3709080.0           unknown      Sanghvi; Daresh make steady progress   \n",
              "\n",
              "  sentiment  neutral  positive  \n",
              "0   neutral        1         0  \n",
              "1   neutral        1         0  \n",
              "2   neutral        1         0  \n",
              "3   neutral        1         0  \n",
              "4  positive        0         1  "
            ],
            "text/html": [
              "\n",
              "  <div id=\"df-400fc6ae-0050-445b-9577-820be06e8dc3\">\n",
              "    <div class=\"colab-df-container\">\n",
              "      <div>\n",
              "<style scoped>\n",
              "    .dataframe tbody tr th:only-of-type {\n",
              "        vertical-align: middle;\n",
              "    }\n",
              "\n",
              "    .dataframe tbody tr th {\n",
              "        vertical-align: top;\n",
              "    }\n",
              "\n",
              "    .dataframe thead th {\n",
              "        text-align: right;\n",
              "    }\n",
              "</style>\n",
              "<table border=\"1\" class=\"dataframe\">\n",
              "  <thead>\n",
              "    <tr style=\"text-align: right;\">\n",
              "      <th></th>\n",
              "      <th>Date</th>\n",
              "      <th>Open</th>\n",
              "      <th>High</th>\n",
              "      <th>Low</th>\n",
              "      <th>Close</th>\n",
              "      <th>Adj Close</th>\n",
              "      <th>Volume</th>\n",
              "      <th>headline_category</th>\n",
              "      <th>headline_text</th>\n",
              "      <th>sentiment</th>\n",
              "      <th>neutral</th>\n",
              "      <th>positive</th>\n",
              "    </tr>\n",
              "  </thead>\n",
              "  <tbody>\n",
              "    <tr>\n",
              "      <th>0</th>\n",
              "      <td>2002-07-01</td>\n",
              "      <td>40.111111</td>\n",
              "      <td>40.724445</td>\n",
              "      <td>40.111111</td>\n",
              "      <td>40.435555</td>\n",
              "      <td>30.959587</td>\n",
              "      <td>3709080.0</td>\n",
              "      <td>unknown</td>\n",
              "      <td>Traffic management necessary</td>\n",
              "      <td>neutral</td>\n",
              "      <td>1</td>\n",
              "      <td>0</td>\n",
              "    </tr>\n",
              "    <tr>\n",
              "      <th>1</th>\n",
              "      <td>2002-07-01</td>\n",
              "      <td>40.111111</td>\n",
              "      <td>40.724445</td>\n",
              "      <td>40.111111</td>\n",
              "      <td>40.435555</td>\n",
              "      <td>30.959587</td>\n",
              "      <td>3709080.0</td>\n",
              "      <td>unknown</td>\n",
              "      <td>Fee hike in English medium schools.</td>\n",
              "      <td>neutral</td>\n",
              "      <td>1</td>\n",
              "      <td>0</td>\n",
              "    </tr>\n",
              "    <tr>\n",
              "      <th>2</th>\n",
              "      <td>2002-07-01</td>\n",
              "      <td>40.111111</td>\n",
              "      <td>40.724445</td>\n",
              "      <td>40.111111</td>\n",
              "      <td>40.435555</td>\n",
              "      <td>30.959587</td>\n",
              "      <td>3709080.0</td>\n",
              "      <td>unknown</td>\n",
              "      <td>BSC recruitment</td>\n",
              "      <td>neutral</td>\n",
              "      <td>1</td>\n",
              "      <td>0</td>\n",
              "    </tr>\n",
              "    <tr>\n",
              "      <th>3</th>\n",
              "      <td>2002-07-01</td>\n",
              "      <td>40.111111</td>\n",
              "      <td>40.724445</td>\n",
              "      <td>40.111111</td>\n",
              "      <td>40.435555</td>\n",
              "      <td>30.959587</td>\n",
              "      <td>3709080.0</td>\n",
              "      <td>unknown</td>\n",
              "      <td>Union Club rout Deodhar XI by an innings</td>\n",
              "      <td>neutral</td>\n",
              "      <td>1</td>\n",
              "      <td>0</td>\n",
              "    </tr>\n",
              "    <tr>\n",
              "      <th>4</th>\n",
              "      <td>2002-07-01</td>\n",
              "      <td>40.111111</td>\n",
              "      <td>40.724445</td>\n",
              "      <td>40.111111</td>\n",
              "      <td>40.435555</td>\n",
              "      <td>30.959587</td>\n",
              "      <td>3709080.0</td>\n",
              "      <td>unknown</td>\n",
              "      <td>Sanghvi; Daresh make steady progress</td>\n",
              "      <td>positive</td>\n",
              "      <td>0</td>\n",
              "      <td>1</td>\n",
              "    </tr>\n",
              "  </tbody>\n",
              "</table>\n",
              "</div>\n",
              "      <button class=\"colab-df-convert\" onclick=\"convertToInteractive('df-400fc6ae-0050-445b-9577-820be06e8dc3')\"\n",
              "              title=\"Convert this dataframe to an interactive table.\"\n",
              "              style=\"display:none;\">\n",
              "        \n",
              "  <svg xmlns=\"http://www.w3.org/2000/svg\" height=\"24px\"viewBox=\"0 0 24 24\"\n",
              "       width=\"24px\">\n",
              "    <path d=\"M0 0h24v24H0V0z\" fill=\"none\"/>\n",
              "    <path d=\"M18.56 5.44l.94 2.06.94-2.06 2.06-.94-2.06-.94-.94-2.06-.94 2.06-2.06.94zm-11 1L8.5 8.5l.94-2.06 2.06-.94-2.06-.94L8.5 2.5l-.94 2.06-2.06.94zm10 10l.94 2.06.94-2.06 2.06-.94-2.06-.94-.94-2.06-.94 2.06-2.06.94z\"/><path d=\"M17.41 7.96l-1.37-1.37c-.4-.4-.92-.59-1.43-.59-.52 0-1.04.2-1.43.59L10.3 9.45l-7.72 7.72c-.78.78-.78 2.05 0 2.83L4 21.41c.39.39.9.59 1.41.59.51 0 1.02-.2 1.41-.59l7.78-7.78 2.81-2.81c.8-.78.8-2.07 0-2.86zM5.41 20L4 18.59l7.72-7.72 1.47 1.35L5.41 20z\"/>\n",
              "  </svg>\n",
              "      </button>\n",
              "      \n",
              "  <style>\n",
              "    .colab-df-container {\n",
              "      display:flex;\n",
              "      flex-wrap:wrap;\n",
              "      gap: 12px;\n",
              "    }\n",
              "\n",
              "    .colab-df-convert {\n",
              "      background-color: #E8F0FE;\n",
              "      border: none;\n",
              "      border-radius: 50%;\n",
              "      cursor: pointer;\n",
              "      display: none;\n",
              "      fill: #1967D2;\n",
              "      height: 32px;\n",
              "      padding: 0 0 0 0;\n",
              "      width: 32px;\n",
              "    }\n",
              "\n",
              "    .colab-df-convert:hover {\n",
              "      background-color: #E2EBFA;\n",
              "      box-shadow: 0px 1px 2px rgba(60, 64, 67, 0.3), 0px 1px 3px 1px rgba(60, 64, 67, 0.15);\n",
              "      fill: #174EA6;\n",
              "    }\n",
              "\n",
              "    [theme=dark] .colab-df-convert {\n",
              "      background-color: #3B4455;\n",
              "      fill: #D2E3FC;\n",
              "    }\n",
              "\n",
              "    [theme=dark] .colab-df-convert:hover {\n",
              "      background-color: #434B5C;\n",
              "      box-shadow: 0px 1px 3px 1px rgba(0, 0, 0, 0.15);\n",
              "      filter: drop-shadow(0px 1px 2px rgba(0, 0, 0, 0.3));\n",
              "      fill: #FFFFFF;\n",
              "    }\n",
              "  </style>\n",
              "\n",
              "      <script>\n",
              "        const buttonEl =\n",
              "          document.querySelector('#df-400fc6ae-0050-445b-9577-820be06e8dc3 button.colab-df-convert');\n",
              "        buttonEl.style.display =\n",
              "          google.colab.kernel.accessAllowed ? 'block' : 'none';\n",
              "\n",
              "        async function convertToInteractive(key) {\n",
              "          const element = document.querySelector('#df-400fc6ae-0050-445b-9577-820be06e8dc3');\n",
              "          const dataTable =\n",
              "            await google.colab.kernel.invokeFunction('convertToInteractive',\n",
              "                                                     [key], {});\n",
              "          if (!dataTable) return;\n",
              "\n",
              "          const docLinkHtml = 'Like what you see? Visit the ' +\n",
              "            '<a target=\"_blank\" href=https://colab.research.google.com/notebooks/data_table.ipynb>data table notebook</a>'\n",
              "            + ' to learn more about interactive tables.';\n",
              "          element.innerHTML = '';\n",
              "          dataTable['output_type'] = 'display_data';\n",
              "          await google.colab.output.renderOutput(dataTable, element);\n",
              "          const docLink = document.createElement('div');\n",
              "          docLink.innerHTML = docLinkHtml;\n",
              "          element.appendChild(docLink);\n",
              "        }\n",
              "      </script>\n",
              "    </div>\n",
              "  </div>\n",
              "  "
            ]
          },
          "metadata": {},
          "execution_count": 43
        }
      ],
      "source": [
        "hybrid_data.head()"
      ]
    },
    {
      "cell_type": "code",
      "execution_count": null,
      "metadata": {
        "id": "xsSb9AgbZXif"
      },
      "outputs": [],
      "source": [
        "#Functions to get the subjectivity and polarity\n",
        "def getSubjectivity(text):\n",
        "  return TextBlob(text).sentiment.subjectivity\n",
        "\n",
        "def getPolarity(text):\n",
        "  return  TextBlob(text).sentiment.polarity"
      ]
    },
    {
      "cell_type": "code",
      "execution_count": null,
      "metadata": {
        "colab": {
          "base_uri": "https://localhost:8080/",
          "height": 206
        },
        "id": "B7_5YcVRZSyO",
        "outputId": "a6857bf6-b72b-4284-f466-d1c4d38594bc"
      },
      "outputs": [
        {
          "output_type": "execute_result",
          "data": {
            "text/plain": [
              "        Date       Open       High        Low      Close  Adj Close  \\\n",
              "0 2002-07-01  40.111111  40.724445  40.111111  40.435555  30.959587   \n",
              "1 2002-07-01  40.111111  40.724445  40.111111  40.435555  30.959587   \n",
              "2 2002-07-01  40.111111  40.724445  40.111111  40.435555  30.959587   \n",
              "3 2002-07-01  40.111111  40.724445  40.111111  40.435555  30.959587   \n",
              "4 2002-07-01  40.111111  40.724445  40.111111  40.435555  30.959587   \n",
              "\n",
              "      Volume headline_category                             headline_text  \\\n",
              "0  3709080.0           unknown              Traffic management necessary   \n",
              "1  3709080.0           unknown       Fee hike in English medium schools.   \n",
              "2  3709080.0           unknown                           BSC recruitment   \n",
              "3  3709080.0           unknown  Union Club rout Deodhar XI by an innings   \n",
              "4  3709080.0           unknown      Sanghvi; Daresh make steady progress   \n",
              "\n",
              "  sentiment  neutral  positive  Subjectivity  Polarity  \n",
              "0   neutral        1         0           1.0  0.000000  \n",
              "1   neutral        1         0           0.0  0.000000  \n",
              "2   neutral        1         0           0.0  0.000000  \n",
              "3   neutral        1         0           0.0  0.000000  \n",
              "4  positive        0         1           0.5  0.166667  "
            ],
            "text/html": [
              "\n",
              "  <div id=\"df-50181a8d-f056-43c9-a219-d28cf7604aca\">\n",
              "    <div class=\"colab-df-container\">\n",
              "      <div>\n",
              "<style scoped>\n",
              "    .dataframe tbody tr th:only-of-type {\n",
              "        vertical-align: middle;\n",
              "    }\n",
              "\n",
              "    .dataframe tbody tr th {\n",
              "        vertical-align: top;\n",
              "    }\n",
              "\n",
              "    .dataframe thead th {\n",
              "        text-align: right;\n",
              "    }\n",
              "</style>\n",
              "<table border=\"1\" class=\"dataframe\">\n",
              "  <thead>\n",
              "    <tr style=\"text-align: right;\">\n",
              "      <th></th>\n",
              "      <th>Date</th>\n",
              "      <th>Open</th>\n",
              "      <th>High</th>\n",
              "      <th>Low</th>\n",
              "      <th>Close</th>\n",
              "      <th>Adj Close</th>\n",
              "      <th>Volume</th>\n",
              "      <th>headline_category</th>\n",
              "      <th>headline_text</th>\n",
              "      <th>sentiment</th>\n",
              "      <th>neutral</th>\n",
              "      <th>positive</th>\n",
              "      <th>Subjectivity</th>\n",
              "      <th>Polarity</th>\n",
              "    </tr>\n",
              "  </thead>\n",
              "  <tbody>\n",
              "    <tr>\n",
              "      <th>0</th>\n",
              "      <td>2002-07-01</td>\n",
              "      <td>40.111111</td>\n",
              "      <td>40.724445</td>\n",
              "      <td>40.111111</td>\n",
              "      <td>40.435555</td>\n",
              "      <td>30.959587</td>\n",
              "      <td>3709080.0</td>\n",
              "      <td>unknown</td>\n",
              "      <td>Traffic management necessary</td>\n",
              "      <td>neutral</td>\n",
              "      <td>1</td>\n",
              "      <td>0</td>\n",
              "      <td>1.0</td>\n",
              "      <td>0.000000</td>\n",
              "    </tr>\n",
              "    <tr>\n",
              "      <th>1</th>\n",
              "      <td>2002-07-01</td>\n",
              "      <td>40.111111</td>\n",
              "      <td>40.724445</td>\n",
              "      <td>40.111111</td>\n",
              "      <td>40.435555</td>\n",
              "      <td>30.959587</td>\n",
              "      <td>3709080.0</td>\n",
              "      <td>unknown</td>\n",
              "      <td>Fee hike in English medium schools.</td>\n",
              "      <td>neutral</td>\n",
              "      <td>1</td>\n",
              "      <td>0</td>\n",
              "      <td>0.0</td>\n",
              "      <td>0.000000</td>\n",
              "    </tr>\n",
              "    <tr>\n",
              "      <th>2</th>\n",
              "      <td>2002-07-01</td>\n",
              "      <td>40.111111</td>\n",
              "      <td>40.724445</td>\n",
              "      <td>40.111111</td>\n",
              "      <td>40.435555</td>\n",
              "      <td>30.959587</td>\n",
              "      <td>3709080.0</td>\n",
              "      <td>unknown</td>\n",
              "      <td>BSC recruitment</td>\n",
              "      <td>neutral</td>\n",
              "      <td>1</td>\n",
              "      <td>0</td>\n",
              "      <td>0.0</td>\n",
              "      <td>0.000000</td>\n",
              "    </tr>\n",
              "    <tr>\n",
              "      <th>3</th>\n",
              "      <td>2002-07-01</td>\n",
              "      <td>40.111111</td>\n",
              "      <td>40.724445</td>\n",
              "      <td>40.111111</td>\n",
              "      <td>40.435555</td>\n",
              "      <td>30.959587</td>\n",
              "      <td>3709080.0</td>\n",
              "      <td>unknown</td>\n",
              "      <td>Union Club rout Deodhar XI by an innings</td>\n",
              "      <td>neutral</td>\n",
              "      <td>1</td>\n",
              "      <td>0</td>\n",
              "      <td>0.0</td>\n",
              "      <td>0.000000</td>\n",
              "    </tr>\n",
              "    <tr>\n",
              "      <th>4</th>\n",
              "      <td>2002-07-01</td>\n",
              "      <td>40.111111</td>\n",
              "      <td>40.724445</td>\n",
              "      <td>40.111111</td>\n",
              "      <td>40.435555</td>\n",
              "      <td>30.959587</td>\n",
              "      <td>3709080.0</td>\n",
              "      <td>unknown</td>\n",
              "      <td>Sanghvi; Daresh make steady progress</td>\n",
              "      <td>positive</td>\n",
              "      <td>0</td>\n",
              "      <td>1</td>\n",
              "      <td>0.5</td>\n",
              "      <td>0.166667</td>\n",
              "    </tr>\n",
              "  </tbody>\n",
              "</table>\n",
              "</div>\n",
              "      <button class=\"colab-df-convert\" onclick=\"convertToInteractive('df-50181a8d-f056-43c9-a219-d28cf7604aca')\"\n",
              "              title=\"Convert this dataframe to an interactive table.\"\n",
              "              style=\"display:none;\">\n",
              "        \n",
              "  <svg xmlns=\"http://www.w3.org/2000/svg\" height=\"24px\"viewBox=\"0 0 24 24\"\n",
              "       width=\"24px\">\n",
              "    <path d=\"M0 0h24v24H0V0z\" fill=\"none\"/>\n",
              "    <path d=\"M18.56 5.44l.94 2.06.94-2.06 2.06-.94-2.06-.94-.94-2.06-.94 2.06-2.06.94zm-11 1L8.5 8.5l.94-2.06 2.06-.94-2.06-.94L8.5 2.5l-.94 2.06-2.06.94zm10 10l.94 2.06.94-2.06 2.06-.94-2.06-.94-.94-2.06-.94 2.06-2.06.94z\"/><path d=\"M17.41 7.96l-1.37-1.37c-.4-.4-.92-.59-1.43-.59-.52 0-1.04.2-1.43.59L10.3 9.45l-7.72 7.72c-.78.78-.78 2.05 0 2.83L4 21.41c.39.39.9.59 1.41.59.51 0 1.02-.2 1.41-.59l7.78-7.78 2.81-2.81c.8-.78.8-2.07 0-2.86zM5.41 20L4 18.59l7.72-7.72 1.47 1.35L5.41 20z\"/>\n",
              "  </svg>\n",
              "      </button>\n",
              "      \n",
              "  <style>\n",
              "    .colab-df-container {\n",
              "      display:flex;\n",
              "      flex-wrap:wrap;\n",
              "      gap: 12px;\n",
              "    }\n",
              "\n",
              "    .colab-df-convert {\n",
              "      background-color: #E8F0FE;\n",
              "      border: none;\n",
              "      border-radius: 50%;\n",
              "      cursor: pointer;\n",
              "      display: none;\n",
              "      fill: #1967D2;\n",
              "      height: 32px;\n",
              "      padding: 0 0 0 0;\n",
              "      width: 32px;\n",
              "    }\n",
              "\n",
              "    .colab-df-convert:hover {\n",
              "      background-color: #E2EBFA;\n",
              "      box-shadow: 0px 1px 2px rgba(60, 64, 67, 0.3), 0px 1px 3px 1px rgba(60, 64, 67, 0.15);\n",
              "      fill: #174EA6;\n",
              "    }\n",
              "\n",
              "    [theme=dark] .colab-df-convert {\n",
              "      background-color: #3B4455;\n",
              "      fill: #D2E3FC;\n",
              "    }\n",
              "\n",
              "    [theme=dark] .colab-df-convert:hover {\n",
              "      background-color: #434B5C;\n",
              "      box-shadow: 0px 1px 3px 1px rgba(0, 0, 0, 0.15);\n",
              "      filter: drop-shadow(0px 1px 2px rgba(0, 0, 0, 0.3));\n",
              "      fill: #FFFFFF;\n",
              "    }\n",
              "  </style>\n",
              "\n",
              "      <script>\n",
              "        const buttonEl =\n",
              "          document.querySelector('#df-50181a8d-f056-43c9-a219-d28cf7604aca button.colab-df-convert');\n",
              "        buttonEl.style.display =\n",
              "          google.colab.kernel.accessAllowed ? 'block' : 'none';\n",
              "\n",
              "        async function convertToInteractive(key) {\n",
              "          const element = document.querySelector('#df-50181a8d-f056-43c9-a219-d28cf7604aca');\n",
              "          const dataTable =\n",
              "            await google.colab.kernel.invokeFunction('convertToInteractive',\n",
              "                                                     [key], {});\n",
              "          if (!dataTable) return;\n",
              "\n",
              "          const docLinkHtml = 'Like what you see? Visit the ' +\n",
              "            '<a target=\"_blank\" href=https://colab.research.google.com/notebooks/data_table.ipynb>data table notebook</a>'\n",
              "            + ' to learn more about interactive tables.';\n",
              "          element.innerHTML = '';\n",
              "          dataTable['output_type'] = 'display_data';\n",
              "          await google.colab.output.renderOutput(dataTable, element);\n",
              "          const docLink = document.createElement('div');\n",
              "          docLink.innerHTML = docLinkHtml;\n",
              "          element.appendChild(docLink);\n",
              "        }\n",
              "      </script>\n",
              "    </div>\n",
              "  </div>\n",
              "  "
            ]
          },
          "metadata": {},
          "execution_count": 45
        }
      ],
      "source": [
        "#Adding subjectivity and polarity columns\n",
        "hybrid_data['Subjectivity'] =hybrid_data['headline_text'].apply(getSubjectivity)\n",
        "hybrid_data['Polarity'] = hybrid_data['headline_text'].apply(getPolarity)\n",
        "hybrid_data.head()"
      ]
    },
    {
      "cell_type": "code",
      "execution_count": null,
      "metadata": {
        "colab": {
          "base_uri": "https://localhost:8080/",
          "height": 407
        },
        "id": "ggMn61PiZdLY",
        "outputId": "dc29cc44-3ba2-472c-ef4c-260797b9c8f0"
      },
      "outputs": [
        {
          "output_type": "execute_result",
          "data": {
            "text/plain": [
              "<matplotlib.axes._subplots.AxesSubplot at 0x7f610bbaab90>"
            ]
          },
          "metadata": {},
          "execution_count": 46
        },
        {
          "output_type": "display_data",
          "data": {
            "text/plain": [
              "<Figure size 720x432 with 1 Axes>"
            ],
            "image/png": "[encoded data removed]"
          },
          "metadata": {
            "needs_background": "light"
          }
        }
      ],
      "source": [
        "plt.figure(figsize = (10,6))\n",
        "plt.title('News Polarity')\n",
        "hybrid_data['Polarity'].hist(color = '#DE3163')"
      ]
    },
    {
      "cell_type": "code",
      "execution_count": null,
      "metadata": {
        "colab": {
          "base_uri": "https://localhost:8080/",
          "height": 407
        },
        "id": "MB8vr9jDZdN7",
        "outputId": "b02a162a-bbaa-412f-cf34-1253f4db7d9b"
      },
      "outputs": [
        {
          "output_type": "execute_result",
          "data": {
            "text/plain": [
              "<matplotlib.axes._subplots.AxesSubplot at 0x7f6108a0c9d0>"
            ]
          },
          "metadata": {},
          "execution_count": 47
        },
        {
          "output_type": "display_data",
          "data": {
            "text/plain": [
              "<Figure size 720x432 with 1 Axes>"
            ],
            "image/png": "[encoded data removed]"
          },
          "metadata": {
            "needs_background": "light"
          }
        }
      ],
      "source": [
        "plt.figure(figsize = (10,6))\n",
        "plt.title('News Subjectivity')\n",
        "hybrid_data['Subjectivity'].hist(color = '#FFC300')"
      ]
    },
    {
      "cell_type": "code",
      "execution_count": null,
      "metadata": {
        "colab": {
          "base_uri": "https://localhost:8080/",
          "height": 371
        },
        "id": "DswhIN94ZdRS",
        "outputId": "fd65ae11-4cb6-43e2-e3b5-5b3df00a9a0f"
      },
      "outputs": [
        {
          "output_type": "execute_result",
          "data": {
            "text/plain": [
              "        Date       Open       High        Low      Close  Adj Close  \\\n",
              "0 2002-07-01  40.111111  40.724445  40.111111  40.435555  30.959587   \n",
              "1 2002-07-01  40.111111  40.724445  40.111111  40.435555  30.959587   \n",
              "2 2002-07-01  40.111111  40.724445  40.111111  40.435555  30.959587   \n",
              "3 2002-07-01  40.111111  40.724445  40.111111  40.435555  30.959587   \n",
              "4 2002-07-01  40.111111  40.724445  40.111111  40.435555  30.959587   \n",
              "\n",
              "      Volume headline_category                             headline_text  \\\n",
              "0  3709080.0           unknown              Traffic management necessary   \n",
              "1  3709080.0           unknown       Fee hike in English medium schools.   \n",
              "2  3709080.0           unknown                           BSC recruitment   \n",
              "3  3709080.0           unknown  Union Club rout Deodhar XI by an innings   \n",
              "4  3709080.0           unknown      Sanghvi; Daresh make steady progress   \n",
              "\n",
              "  sentiment  neutral  positive  Subjectivity  Polarity  Compound  Negative  \\\n",
              "0   neutral        1         0           1.0  0.000000    0.0000       0.0   \n",
              "1   neutral        1         0           0.0  0.000000    0.0000       0.0   \n",
              "2   neutral        1         0           0.0  0.000000    0.0000       0.0   \n",
              "3   neutral        1         0           0.0  0.000000    0.0000       0.0   \n",
              "4  positive        0         1           0.5  0.166667    0.4215       0.0   \n",
              "\n",
              "   Neutral  Positive  \n",
              "0    1.000     0.000  \n",
              "1    1.000     0.000  \n",
              "2    1.000     0.000  \n",
              "3    1.000     0.000  \n",
              "4    0.588     0.412  "
            ],
            "text/html": [
              "\n",
              "  <div id=\"df-5571d8d5-5954-4e56-a49c-fb75cdabbfba\">\n",
              "    <div class=\"colab-df-container\">\n",
              "      <div>\n",
              "<style scoped>\n",
              "    .dataframe tbody tr th:only-of-type {\n",
              "        vertical-align: middle;\n",
              "    }\n",
              "\n",
              "    .dataframe tbody tr th {\n",
              "        vertical-align: top;\n",
              "    }\n",
              "\n",
              "    .dataframe thead th {\n",
              "        text-align: right;\n",
              "    }\n",
              "</style>\n",
              "<table border=\"1\" class=\"dataframe\">\n",
              "  <thead>\n",
              "    <tr style=\"text-align: right;\">\n",
              "      <th></th>\n",
              "      <th>Date</th>\n",
              "      <th>Open</th>\n",
              "      <th>High</th>\n",
              "      <th>Low</th>\n",
              "      <th>Close</th>\n",
              "      <th>Adj Close</th>\n",
              "      <th>Volume</th>\n",
              "      <th>headline_category</th>\n",
              "      <th>headline_text</th>\n",
              "      <th>sentiment</th>\n",
              "      <th>neutral</th>\n",
              "      <th>positive</th>\n",
              "      <th>Subjectivity</th>\n",
              "      <th>Polarity</th>\n",
              "      <th>Compound</th>\n",
              "      <th>Negative</th>\n",
              "      <th>Neutral</th>\n",
              "      <th>Positive</th>\n",
              "    </tr>\n",
              "  </thead>\n",
              "  <tbody>\n",
              "    <tr>\n",
              "      <th>0</th>\n",
              "      <td>2002-07-01</td>\n",
              "      <td>40.111111</td>\n",
              "      <td>40.724445</td>\n",
              "      <td>40.111111</td>\n",
              "      <td>40.435555</td>\n",
              "      <td>30.959587</td>\n",
              "      <td>3709080.0</td>\n",
              "      <td>unknown</td>\n",
              "      <td>Traffic management necessary</td>\n",
              "      <td>neutral</td>\n",
              "      <td>1</td>\n",
              "      <td>0</td>\n",
              "      <td>1.0</td>\n",
              "      <td>0.000000</td>\n",
              "      <td>0.0000</td>\n",
              "      <td>0.0</td>\n",
              "      <td>1.000</td>\n",
              "      <td>0.000</td>\n",
              "    </tr>\n",
              "    <tr>\n",
              "      <th>1</th>\n",
              "      <td>2002-07-01</td>\n",
              "      <td>40.111111</td>\n",
              "      <td>40.724445</td>\n",
              "      <td>40.111111</td>\n",
              "      <td>40.435555</td>\n",
              "      <td>30.959587</td>\n",
              "      <td>3709080.0</td>\n",
              "      <td>unknown</td>\n",
              "      <td>Fee hike in English medium schools.</td>\n",
              "      <td>neutral</td>\n",
              "      <td>1</td>\n",
              "      <td>0</td>\n",
              "      <td>0.0</td>\n",
              "      <td>0.000000</td>\n",
              "      <td>0.0000</td>\n",
              "      <td>0.0</td>\n",
              "      <td>1.000</td>\n",
              "      <td>0.000</td>\n",
              "    </tr>\n",
              "    <tr>\n",
              "      <th>2</th>\n",
              "      <td>2002-07-01</td>\n",
              "      <td>40.111111</td>\n",
              "      <td>40.724445</td>\n",
              "      <td>40.111111</td>\n",
              "      <td>40.435555</td>\n",
              "      <td>30.959587</td>\n",
              "      <td>3709080.0</td>\n",
              "      <td>unknown</td>\n",
              "      <td>BSC recruitment</td>\n",
              "      <td>neutral</td>\n",
              "      <td>1</td>\n",
              "      <td>0</td>\n",
              "      <td>0.0</td>\n",
              "      <td>0.000000</td>\n",
              "      <td>0.0000</td>\n",
              "      <td>0.0</td>\n",
              "      <td>1.000</td>\n",
              "      <td>0.000</td>\n",
              "    </tr>\n",
              "    <tr>\n",
              "      <th>3</th>\n",
              "      <td>2002-07-01</td>\n",
              "      <td>40.111111</td>\n",
              "      <td>40.724445</td>\n",
              "      <td>40.111111</td>\n",
              "      <td>40.435555</td>\n",
              "      <td>30.959587</td>\n",
              "      <td>3709080.0</td>\n",
              "      <td>unknown</td>\n",
              "      <td>Union Club rout Deodhar XI by an innings</td>\n",
              "      <td>neutral</td>\n",
              "      <td>1</td>\n",
              "      <td>0</td>\n",
              "      <td>0.0</td>\n",
              "      <td>0.000000</td>\n",
              "      <td>0.0000</td>\n",
              "      <td>0.0</td>\n",
              "      <td>1.000</td>\n",
              "      <td>0.000</td>\n",
              "    </tr>\n",
              "    <tr>\n",
              "      <th>4</th>\n",
              "      <td>2002-07-01</td>\n",
              "      <td>40.111111</td>\n",
              "      <td>40.724445</td>\n",
              "      <td>40.111111</td>\n",
              "      <td>40.435555</td>\n",
              "      <td>30.959587</td>\n",
              "      <td>3709080.0</td>\n",
              "      <td>unknown</td>\n",
              "      <td>Sanghvi; Daresh make steady progress</td>\n",
              "      <td>positive</td>\n",
              "      <td>0</td>\n",
              "      <td>1</td>\n",
              "      <td>0.5</td>\n",
              "      <td>0.166667</td>\n",
              "      <td>0.4215</td>\n",
              "      <td>0.0</td>\n",
              "      <td>0.588</td>\n",
              "      <td>0.412</td>\n",
              "    </tr>\n",
              "  </tbody>\n",
              "</table>\n",
              "</div>\n",
              "      <button class=\"colab-df-convert\" onclick=\"convertToInteractive('df-5571d8d5-5954-4e56-a49c-fb75cdabbfba')\"\n",
              "              title=\"Convert this dataframe to an interactive table.\"\n",
              "              style=\"display:none;\">\n",
              "        \n",
              "  <svg xmlns=\"http://www.w3.org/2000/svg\" height=\"24px\"viewBox=\"0 0 24 24\"\n",
              "       width=\"24px\">\n",
              "    <path d=\"M0 0h24v24H0V0z\" fill=\"none\"/>\n",
              "    <path d=\"M18.56 5.44l.94 2.06.94-2.06 2.06-.94-2.06-.94-.94-2.06-.94 2.06-2.06.94zm-11 1L8.5 8.5l.94-2.06 2.06-.94-2.06-.94L8.5 2.5l-.94 2.06-2.06.94zm10 10l.94 2.06.94-2.06 2.06-.94-2.06-.94-.94-2.06-.94 2.06-2.06.94z\"/><path d=\"M17.41 7.96l-1.37-1.37c-.4-.4-.92-.59-1.43-.59-.52 0-1.04.2-1.43.59L10.3 9.45l-7.72 7.72c-.78.78-.78 2.05 0 2.83L4 21.41c.39.39.9.59 1.41.59.51 0 1.02-.2 1.41-.59l7.78-7.78 2.81-2.81c.8-.78.8-2.07 0-2.86zM5.41 20L4 18.59l7.72-7.72 1.47 1.35L5.41 20z\"/>\n",
              "  </svg>\n",
              "      </button>\n",
              "      \n",
              "  <style>\n",
              "    .colab-df-container {\n",
              "      display:flex;\n",
              "      flex-wrap:wrap;\n",
              "      gap: 12px;\n",
              "    }\n",
              "\n",
              "    .colab-df-convert {\n",
              "      background-color: #E8F0FE;\n",
              "      border: none;\n",
              "      border-radius: 50%;\n",
              "      cursor: pointer;\n",
              "      display: none;\n",
              "      fill: #1967D2;\n",
              "      height: 32px;\n",
              "      padding: 0 0 0 0;\n",
              "      width: 32px;\n",
              "    }\n",
              "\n",
              "    .colab-df-convert:hover {\n",
              "      background-color: #E2EBFA;\n",
              "      box-shadow: 0px 1px 2px rgba(60, 64, 67, 0.3), 0px 1px 3px 1px rgba(60, 64, 67, 0.15);\n",
              "      fill: #174EA6;\n",
              "    }\n",
              "\n",
              "    [theme=dark] .colab-df-convert {\n",
              "      background-color: #3B4455;\n",
              "      fill: #D2E3FC;\n",
              "    }\n",
              "\n",
              "    [theme=dark] .colab-df-convert:hover {\n",
              "      background-color: #434B5C;\n",
              "      box-shadow: 0px 1px 3px 1px rgba(0, 0, 0, 0.15);\n",
              "      filter: drop-shadow(0px 1px 2px rgba(0, 0, 0, 0.3));\n",
              "      fill: #FFFFFF;\n",
              "    }\n",
              "  </style>\n",
              "\n",
              "      <script>\n",
              "        const buttonEl =\n",
              "          document.querySelector('#df-5571d8d5-5954-4e56-a49c-fb75cdabbfba button.colab-df-convert');\n",
              "        buttonEl.style.display =\n",
              "          google.colab.kernel.accessAllowed ? 'block' : 'none';\n",
              "\n",
              "        async function convertToInteractive(key) {\n",
              "          const element = document.querySelector('#df-5571d8d5-5954-4e56-a49c-fb75cdabbfba');\n",
              "          const dataTable =\n",
              "            await google.colab.kernel.invokeFunction('convertToInteractive',\n",
              "                                                     [key], {});\n",
              "          if (!dataTable) return;\n",
              "\n",
              "          const docLinkHtml = 'Like what you see? Visit the ' +\n",
              "            '<a target=\"_blank\" href=https://colab.research.google.com/notebooks/data_table.ipynb>data table notebook</a>'\n",
              "            + ' to learn more about interactive tables.';\n",
              "          element.innerHTML = '';\n",
              "          dataTable['output_type'] = 'display_data';\n",
              "          await google.colab.output.renderOutput(dataTable, element);\n",
              "          const docLink = document.createElement('div');\n",
              "          docLink.innerHTML = docLinkHtml;\n",
              "          element.appendChild(docLink);\n",
              "        }\n",
              "      </script>\n",
              "    </div>\n",
              "  </div>\n",
              "  "
            ]
          },
          "metadata": {},
          "execution_count": 48
        }
      ],
      "source": [
        "senti_int_an = SentimentIntensityAnalyzer()\n",
        "\n",
        "hybrid_data['Compound'] = [senti_int_an.polarity_scores(v)['compound'] for v in hybrid_data['headline_text']]\n",
        "hybrid_data['Negative'] = [senti_int_an.polarity_scores(v)['neg'] for v in hybrid_data['headline_text']]\n",
        "hybrid_data['Neutral'] = [senti_int_an.polarity_scores(v)['neu'] for v in hybrid_data['headline_text']]\n",
        "hybrid_data['Positive'] = [senti_int_an.polarity_scores(v)['pos'] for v in hybrid_data['headline_text']]\n",
        "hybrid_data.head()"
      ]
    },
    {
      "cell_type": "code",
      "execution_count": null,
      "metadata": {
        "colab": {
          "base_uri": "https://localhost:8080/"
        },
        "id": "3IhpLNTnZdUC",
        "outputId": "f7fa3edf-bc70-4e8b-b342-ee8c57e5c63b"
      },
      "outputs": [
        {
          "output_type": "execute_result",
          "data": {
            "text/plain": [
              "Index(['Date', 'Open', 'High', 'Low', 'Close', 'Adj Close', 'Volume',\n",
              "       'headline_category', 'headline_text', 'sentiment', 'neutral',\n",
              "       'positive', 'Subjectivity', 'Polarity', 'Compound', 'Negative',\n",
              "       'Neutral', 'Positive'],\n",
              "      dtype='object')"
            ]
          },
          "metadata": {},
          "execution_count": 49
        }
      ],
      "source": [
        "hybrid_data.columns"
      ]
    },
    {
      "cell_type": "code",
      "execution_count": null,
      "metadata": {
        "id": "ts_cugTGZdWB"
      },
      "outputs": [],
      "source": [
        "req_col = [ 'Open',  'High', 'Low','Volume','Compound', 'Negative', 'Neutral' ,'Positive','positive']\n"
      ]
    },
    {
      "cell_type": "code",
      "execution_count": null,
      "metadata": {
        "id": "qz92UQHeZdXn"
      },
      "outputs": [],
      "source": [
        "new_hybrid = hybrid_data[req_col]\n",
        "new_hybrid.reset_index(inplace = True)"
      ]
    },
    {
      "cell_type": "code",
      "execution_count": null,
      "metadata": {
        "colab": {
          "base_uri": "https://localhost:8080/"
        },
        "id": "4ePSe2ZEZjdq",
        "outputId": "1e28188b-7de2-42f3-837b-2d0a25cf1983"
      },
      "outputs": [
        {
          "output_type": "stream",
          "name": "stderr",
          "text": [
            "/usr/local/lib/python3.7/dist-packages/pandas/core/frame.py:5047: SettingWithCopyWarning: \n",
            "A value is trying to be set on a copy of a slice from a DataFrame\n",
            "\n",
            "See the caveats in the documentation: https://pandas.pydata.org/pandas-docs/stable/user_guide/indexing.html#returning-a-view-versus-a-copy\n",
            "  errors=errors,\n"
          ]
        }
      ],
      "source": [
        "new_hybrid.rename(columns = {'positive':'Label'}, inplace = True)\n"
      ]
    },
    {
      "cell_type": "code",
      "execution_count": null,
      "metadata": {
        "colab": {
          "base_uri": "https://localhost:8080/",
          "height": 206
        },
        "id": "bWnvcCW7Zjf8",
        "outputId": "c2c8bd3d-d86b-4c77-db90-fd51b61195ec"
      },
      "outputs": [
        {
          "output_type": "execute_result",
          "data": {
            "text/plain": [
              "   index       Open       High        Low     Volume  Compound  Negative  \\\n",
              "0      0  40.111111  40.724445  40.111111  3709080.0    0.0000       0.0   \n",
              "1      1  40.111111  40.724445  40.111111  3709080.0    0.0000       0.0   \n",
              "2      2  40.111111  40.724445  40.111111  3709080.0    0.0000       0.0   \n",
              "3      3  40.111111  40.724445  40.111111  3709080.0    0.0000       0.0   \n",
              "4      4  40.111111  40.724445  40.111111  3709080.0    0.4215       0.0   \n",
              "\n",
              "   Neutral  Positive  Label  \n",
              "0    1.000     0.000      0  \n",
              "1    1.000     0.000      0  \n",
              "2    1.000     0.000      0  \n",
              "3    1.000     0.000      0  \n",
              "4    0.588     0.412      1  "
            ],
            "text/html": [
              "\n",
              "  <div id=\"df-8c42fe44-804d-4d75-ae5f-cd729d4bf761\">\n",
              "    <div class=\"colab-df-container\">\n",
              "      <div>\n",
              "<style scoped>\n",
              "    .dataframe tbody tr th:only-of-type {\n",
              "        vertical-align: middle;\n",
              "    }\n",
              "\n",
              "    .dataframe tbody tr th {\n",
              "        vertical-align: top;\n",
              "    }\n",
              "\n",
              "    .dataframe thead th {\n",
              "        text-align: right;\n",
              "    }\n",
              "</style>\n",
              "<table border=\"1\" class=\"dataframe\">\n",
              "  <thead>\n",
              "    <tr style=\"text-align: right;\">\n",
              "      <th></th>\n",
              "      <th>index</th>\n",
              "      <th>Open</th>\n",
              "      <th>High</th>\n",
              "      <th>Low</th>\n",
              "      <th>Volume</th>\n",
              "      <th>Compound</th>\n",
              "      <th>Negative</th>\n",
              "      <th>Neutral</th>\n",
              "      <th>Positive</th>\n",
              "      <th>Label</th>\n",
              "    </tr>\n",
              "  </thead>\n",
              "  <tbody>\n",
              "    <tr>\n",
              "      <th>0</th>\n",
              "      <td>0</td>\n",
              "      <td>40.111111</td>\n",
              "      <td>40.724445</td>\n",
              "      <td>40.111111</td>\n",
              "      <td>3709080.0</td>\n",
              "      <td>0.0000</td>\n",
              "      <td>0.0</td>\n",
              "      <td>1.000</td>\n",
              "      <td>0.000</td>\n",
              "      <td>0</td>\n",
              "    </tr>\n",
              "    <tr>\n",
              "      <th>1</th>\n",
              "      <td>1</td>\n",
              "      <td>40.111111</td>\n",
              "      <td>40.724445</td>\n",
              "      <td>40.111111</td>\n",
              "      <td>3709080.0</td>\n",
              "      <td>0.0000</td>\n",
              "      <td>0.0</td>\n",
              "      <td>1.000</td>\n",
              "      <td>0.000</td>\n",
              "      <td>0</td>\n",
              "    </tr>\n",
              "    <tr>\n",
              "      <th>2</th>\n",
              "      <td>2</td>\n",
              "      <td>40.111111</td>\n",
              "      <td>40.724445</td>\n",
              "      <td>40.111111</td>\n",
              "      <td>3709080.0</td>\n",
              "      <td>0.0000</td>\n",
              "      <td>0.0</td>\n",
              "      <td>1.000</td>\n",
              "      <td>0.000</td>\n",
              "      <td>0</td>\n",
              "    </tr>\n",
              "    <tr>\n",
              "      <th>3</th>\n",
              "      <td>3</td>\n",
              "      <td>40.111111</td>\n",
              "      <td>40.724445</td>\n",
              "      <td>40.111111</td>\n",
              "      <td>3709080.0</td>\n",
              "      <td>0.0000</td>\n",
              "      <td>0.0</td>\n",
              "      <td>1.000</td>\n",
              "      <td>0.000</td>\n",
              "      <td>0</td>\n",
              "    </tr>\n",
              "    <tr>\n",
              "      <th>4</th>\n",
              "      <td>4</td>\n",
              "      <td>40.111111</td>\n",
              "      <td>40.724445</td>\n",
              "      <td>40.111111</td>\n",
              "      <td>3709080.0</td>\n",
              "      <td>0.4215</td>\n",
              "      <td>0.0</td>\n",
              "      <td>0.588</td>\n",
              "      <td>0.412</td>\n",
              "      <td>1</td>\n",
              "    </tr>\n",
              "  </tbody>\n",
              "</table>\n",
              "</div>\n",
              "      <button class=\"colab-df-convert\" onclick=\"convertToInteractive('df-8c42fe44-804d-4d75-ae5f-cd729d4bf761')\"\n",
              "              title=\"Convert this dataframe to an interactive table.\"\n",
              "              style=\"display:none;\">\n",
              "        \n",
              "  <svg xmlns=\"http://www.w3.org/2000/svg\" height=\"24px\"viewBox=\"0 0 24 24\"\n",
              "       width=\"24px\">\n",
              "    <path d=\"M0 0h24v24H0V0z\" fill=\"none\"/>\n",
              "    <path d=\"M18.56 5.44l.94 2.06.94-2.06 2.06-.94-2.06-.94-.94-2.06-.94 2.06-2.06.94zm-11 1L8.5 8.5l.94-2.06 2.06-.94-2.06-.94L8.5 2.5l-.94 2.06-2.06.94zm10 10l.94 2.06.94-2.06 2.06-.94-2.06-.94-.94-2.06-.94 2.06-2.06.94z\"/><path d=\"M17.41 7.96l-1.37-1.37c-.4-.4-.92-.59-1.43-.59-.52 0-1.04.2-1.43.59L10.3 9.45l-7.72 7.72c-.78.78-.78 2.05 0 2.83L4 21.41c.39.39.9.59 1.41.59.51 0 1.02-.2 1.41-.59l7.78-7.78 2.81-2.81c.8-.78.8-2.07 0-2.86zM5.41 20L4 18.59l7.72-7.72 1.47 1.35L5.41 20z\"/>\n",
              "  </svg>\n",
              "      </button>\n",
              "      \n",
              "  <style>\n",
              "    .colab-df-container {\n",
              "      display:flex;\n",
              "      flex-wrap:wrap;\n",
              "      gap: 12px;\n",
              "    }\n",
              "\n",
              "    .colab-df-convert {\n",
              "      background-color: #E8F0FE;\n",
              "      border: none;\n",
              "      border-radius: 50%;\n",
              "      cursor: pointer;\n",
              "      display: none;\n",
              "      fill: #1967D2;\n",
              "      height: 32px;\n",
              "      padding: 0 0 0 0;\n",
              "      width: 32px;\n",
              "    }\n",
              "\n",
              "    .colab-df-convert:hover {\n",
              "      background-color: #E2EBFA;\n",
              "      box-shadow: 0px 1px 2px rgba(60, 64, 67, 0.3), 0px 1px 3px 1px rgba(60, 64, 67, 0.15);\n",
              "      fill: #174EA6;\n",
              "    }\n",
              "\n",
              "    [theme=dark] .colab-df-convert {\n",
              "      background-color: #3B4455;\n",
              "      fill: #D2E3FC;\n",
              "    }\n",
              "\n",
              "    [theme=dark] .colab-df-convert:hover {\n",
              "      background-color: #434B5C;\n",
              "      box-shadow: 0px 1px 3px 1px rgba(0, 0, 0, 0.15);\n",
              "      filter: drop-shadow(0px 1px 2px rgba(0, 0, 0, 0.3));\n",
              "      fill: #FFFFFF;\n",
              "    }\n",
              "  </style>\n",
              "\n",
              "      <script>\n",
              "        const buttonEl =\n",
              "          document.querySelector('#df-8c42fe44-804d-4d75-ae5f-cd729d4bf761 button.colab-df-convert');\n",
              "        buttonEl.style.display =\n",
              "          google.colab.kernel.accessAllowed ? 'block' : 'none';\n",
              "\n",
              "        async function convertToInteractive(key) {\n",
              "          const element = document.querySelector('#df-8c42fe44-804d-4d75-ae5f-cd729d4bf761');\n",
              "          const dataTable =\n",
              "            await google.colab.kernel.invokeFunction('convertToInteractive',\n",
              "                                                     [key], {});\n",
              "          if (!dataTable) return;\n",
              "\n",
              "          const docLinkHtml = 'Like what you see? Visit the ' +\n",
              "            '<a target=\"_blank\" href=https://colab.research.google.com/notebooks/data_table.ipynb>data table notebook</a>'\n",
              "            + ' to learn more about interactive tables.';\n",
              "          element.innerHTML = '';\n",
              "          dataTable['output_type'] = 'display_data';\n",
              "          await google.colab.output.renderOutput(dataTable, element);\n",
              "          const docLink = document.createElement('div');\n",
              "          docLink.innerHTML = docLinkHtml;\n",
              "          element.appendChild(docLink);\n",
              "        }\n",
              "      </script>\n",
              "    </div>\n",
              "  </div>\n",
              "  "
            ]
          },
          "metadata": {},
          "execution_count": 53
        }
      ],
      "source": [
        "new_hybrid.head()"
      ]
    },
    {
      "cell_type": "code",
      "execution_count": null,
      "metadata": {
        "colab": {
          "base_uri": "https://localhost:8080/"
        },
        "id": "VYLaUlokZjiM",
        "outputId": "b8bf5b70-d30f-4890-c168-f60b2ba089b1"
      },
      "outputs": [
        {
          "output_type": "execute_result",
          "data": {
            "text/plain": [
              "(2424136, 10)"
            ]
          },
          "metadata": {},
          "execution_count": 54
        }
      ],
      "source": [
        "new_hybrid.shape"
      ]
    },
    {
      "cell_type": "markdown",
      "metadata": {
        "id": "zbU4DnRwZo4K"
      },
      "source": [
        "## Training and Testing"
      ]
    },
    {
      "cell_type": "code",
      "execution_count": null,
      "metadata": {
        "id": "y1QbWbY0ZjkQ"
      },
      "outputs": [],
      "source": [
        "X = new_hybrid.drop('Label', axis=1)    \n",
        "\n",
        "y = new_hybrid['Label']"
      ]
    },
    {
      "cell_type": "code",
      "execution_count": null,
      "metadata": {
        "id": "uiGHfsjAZjmC"
      },
      "outputs": [],
      "source": [
        "x_train, x_test, y_train, y_test = train_test_split(X, y, test_size=0.2, random_state = 0)\n"
      ]
    },
    {
      "cell_type": "code",
      "execution_count": null,
      "metadata": {
        "colab": {
          "base_uri": "https://localhost:8080/"
        },
        "id": "QUUyoJ5gZr_d",
        "outputId": "ce143f56-8b35-4bb8-ff73-1e40a1a679ac"
      },
      "outputs": [
        {
          "output_type": "execute_result",
          "data": {
            "text/plain": [
              "True"
            ]
          },
          "metadata": {},
          "execution_count": 57
        }
      ],
      "source": [
        "np.any(np.isnan(x_train))"
      ]
    },
    {
      "cell_type": "code",
      "execution_count": null,
      "metadata": {
        "colab": {
          "base_uri": "https://localhost:8080/"
        },
        "id": "w53REUqdZsBn",
        "outputId": "a3d4cc85-e106-4237-95a9-50bf20cbaeb7"
      },
      "outputs": [
        {
          "output_type": "execute_result",
          "data": {
            "text/plain": [
              "False"
            ]
          },
          "metadata": {},
          "execution_count": 58
        }
      ],
      "source": [
        "np.all(np.isfinite(x_train))"
      ]
    },
    {
      "cell_type": "code",
      "execution_count": null,
      "metadata": {
        "id": "QTMa8AiyZsD6"
      },
      "outputs": [],
      "source": [
        "x_train = x_train.fillna(x_train.mean())"
      ]
    },
    {
      "cell_type": "code",
      "execution_count": null,
      "metadata": {
        "id": "iEJfqwByZsGV"
      },
      "outputs": [],
      "source": [
        "x_test=x_test.fillna(x_test.mean())"
      ]
    },
    {
      "cell_type": "code",
      "execution_count": null,
      "metadata": {
        "colab": {
          "base_uri": "https://localhost:8080/"
        },
        "id": "hI7_yt54ZsIi",
        "outputId": "26646816-8794-4a48-c81d-34928118a303"
      },
      "outputs": [
        {
          "output_type": "execute_result",
          "data": {
            "text/plain": [
              "0.814375407360961"
            ]
          },
          "metadata": {},
          "execution_count": 61
        }
      ],
      "source": [
        "logit = LogisticRegression()\n",
        "logit.fit(x_train,y_train)\n",
        "y_logit_pred = logit.predict(x_test)\n",
        "accuracy_score(y_test,y_logit_pred)"
      ]
    },
    {
      "cell_type": "code",
      "execution_count": null,
      "metadata": {
        "id": "E-w1XNtWZwVC"
      },
      "outputs": [],
      "source": []
    },
    {
      "cell_type": "code",
      "execution_count": null,
      "metadata": {
        "colab": {
          "base_uri": "https://localhost:8080/"
        },
        "id": "rul8DOv1ZwXi",
        "outputId": "a5e864ad-4c63-4b71-f7d6-565cd999403c"
      },
      "outputs": [
        {
          "output_type": "execute_result",
          "data": {
            "text/plain": [
              "0.7685364706658856"
            ]
          },
          "metadata": {},
          "execution_count": 62
        }
      ],
      "source": [
        "dt = DecisionTreeClassifier()\n",
        "dt.fit(x_train, y_train)\n",
        "y_dt_pred = dt.predict(x_test)\n",
        "accuracy_score(y_test,y_dt_pred)"
      ]
    },
    {
      "cell_type": "code",
      "execution_count": null,
      "metadata": {
        "colab": {
          "base_uri": "https://localhost:8080/"
        },
        "id": "VeJi8AgpZwa9",
        "outputId": "6a97c1d8-d269-43a0-facb-9b52998fcc70"
      },
      "outputs": [
        {
          "output_type": "execute_result",
          "data": {
            "text/plain": [
              "0.8176837971404292"
            ]
          },
          "metadata": {},
          "execution_count": 63
        }
      ],
      "source": [
        "lda = LinearDiscriminantAnalysis()\n",
        "lda.fit(x_train, y_train)\n",
        "y_lda_pred = lda.predict(x_test)\n",
        "accuracy_score(y_test,y_lda_pred)"
      ]
    },
    {
      "cell_type": "code",
      "execution_count": null,
      "metadata": {
        "colab": {
          "base_uri": "https://localhost:8080/"
        },
        "id": "mNh2P-LFZwd5",
        "outputId": "8b16e3cf-1994-4d41-ca1e-a6fb67485f7c"
      },
      "outputs": [
        {
          "output_type": "execute_result",
          "data": {
            "text/plain": [
              "0.8322023480492051"
            ]
          },
          "metadata": {},
          "execution_count": 64
        }
      ],
      "source": [
        "adb = AdaBoostClassifier()\n",
        "adb.fit(x_train, y_train)\n",
        "y_adb_pred = adb.predict(x_test)\n",
        "accuracy_score(y_test,y_adb_pred)"
      ]
    },
    {
      "cell_type": "code",
      "execution_count": null,
      "metadata": {
        "colab": {
          "base_uri": "https://localhost:8080/"
        },
        "id": "Z5bPuTQ3Z0Hq",
        "outputId": "29752ca2-b829-4bfa-d486-e8703fae54e3"
      },
      "outputs": [
        {
          "output_type": "execute_result",
          "data": {
            "text/plain": [
              "0.8339122327918355"
            ]
          },
          "metadata": {},
          "execution_count": 65
        }
      ],
      "source": [
        "xgb = GradientBoostingClassifier()\n",
        "xgb.fit(x_train, y_train)\n",
        "y_xgb_pred = xgb.predict(x_test)\n",
        "accuracy_score(y_test,y_xgb_pred)"
      ]
    },
    {
      "cell_type": "code",
      "execution_count": null,
      "metadata": {
        "colab": {
          "base_uri": "https://localhost:8080/"
        },
        "id": "gsFTsUTJZ0KD",
        "outputId": "04082071-84bf-443b-dd88-08717900301b"
      },
      "outputs": [
        {
          "output_type": "stream",
          "name": "stdout",
          "text": [
            "Accuracy of Logistic Regression Model:  81.43754073609611 %\n",
            "Accuracy of Decision Tree Model      :  76.85364706658856 %\n",
            "Accuracy of Linear Discriminant Mode  :  81.76837971404292 %\n",
            "Accuracy of AdaBoost Model           :  83.22023480492051 %\n",
            "Accuracy of Gradient Boosting Model  :  83.39122327918355 %\n"
          ]
        }
      ],
      "source": [
        "print(\"Accuracy of Logistic Regression Model: \",accuracy_score(y_test,y_logit_pred)*100,\"%\")\n",
        "\n",
        "print(\"Accuracy of Decision Tree Model      : \",accuracy_score(y_test,y_dt_pred)*100,\"%\")\n",
        "print(\"Accuracy of Linear Discriminant Mode  : \",accuracy_score(y_test,y_lda_pred)*100,\"%\")\n",
        "print(\"Accuracy of AdaBoost Model           : \",accuracy_score(y_test,y_adb_pred)*100,\"%\")\n",
        "print(\"Accuracy of Gradient Boosting Model  : \",accuracy_score(y_test,y_xgb_pred)*100,\"%\")"
      ]
    },
    {
      "cell_type": "code",
      "execution_count": null,
      "metadata": {
        "id": "CusVHz_xZ3l2"
      },
      "outputs": [],
      "source": []
    },
    {
      "cell_type": "code",
      "execution_count": null,
      "metadata": {
        "colab": {
          "base_uri": "https://localhost:8080/"
        },
        "id": "LunX3qTVZ0MT",
        "outputId": "612de787-9ccf-4dad-a9d5-5fa8d2372f42"
      },
      "outputs": [
        {
          "output_type": "execute_result",
          "data": {
            "text/plain": [
              "0.7928461227486862"
            ]
          },
          "metadata": {},
          "execution_count": 67
        }
      ],
      "source": [
        "from sklearn.ensemble._forest import RandomForestClassifier\n",
        "rf = RandomForestClassifier(n_estimators=150)\n",
        "rf.fit(x_train,y_train)\n",
        "y_rf_pred = rf.predict(x_test)\n",
        "accuracy_score(y_test,y_rf_pred)\n"
      ]
    },
    {
      "cell_type": "code",
      "execution_count": null,
      "metadata": {
        "colab": {
          "base_uri": "https://localhost:8080/"
        },
        "id": "1-T8n6oDZ0Qa",
        "outputId": "862e942d-891c-44e6-a1a0-740c87de4ffb"
      },
      "outputs": [
        {
          "output_type": "stream",
          "name": "stdout",
          "text": [
            "Accuracy of Random forest Model      :  79.28461227486862 %\n"
          ]
        }
      ],
      "source": [
        "print(\"Accuracy of Random forest Model      : \",accuracy_score(y_test,y_rf_pred)*100,\"%\")"
      ]
    },
    {
      "cell_type": "markdown",
      "source": [
        "Conclusion:\n",
        "Six different Neural Network models were used to carry out the analysis and prediction of stock price/performance, trained with Hybrid data generated from Numerical data (i.e. Stock price history of L&T)) and Textual data (i.e.India News Headlines data).\n",
        "\n",
        "Results\n",
        "Accuracy of Logistic Regression Model:  81.43754073609611 %\n",
        "\n",
        "Accuracy of Decision Tree Model      :  76.85364706658856 %\n",
        "\n",
        "Accuracy of Random forest Model      :  79.28461227486862 %\n",
        "\n",
        "Accuracy of Linear Discriminant Mode  :  81.76837971404292 %\n",
        "\n",
        "Accuracy of AdaBoost Model           :  83.22023480492051 %\n",
        "\n",
        "Accuracy of Gradient Boosting Model  :  83.39122327918355 %\n",
        "\n",
        "Gradient Boosting and AdaBoot give the best results in terms of accuracy as compared to all other models."
      ],
      "metadata": {
        "id": "puoVjMOA1d0B"
      }
    }
  ],
  "metadata": {
    "colab": {
      "collapsed_sections": [],
      "provenance": []
    },
    "kernelspec": {
      "display_name": "Python 3",
      "name": "python3"
    },
    "language_info": {
      "name": "python"
    }
  },
  "nbformat": 4,
  "nbformat_minor": 0
}